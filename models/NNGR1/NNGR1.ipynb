{
  "cells": [
    {
      "attachments": {},
      "cell_type": "markdown",
      "metadata": {
        "id": "TPvB1xoSUZhR"
      },
      "source": [
        "# Neural network to learn conservative-to-primitive conversion in relativistic hydrodynamics"
      ]
    },
    {
      "attachments": {},
      "cell_type": "markdown",
      "metadata": {},
      "source": [
        "## How to use this notebook\n",
        "\n",
        "### Local installation\n",
        "\n",
        "1. Install required packages with `pip install -r requirements.txt` to your desired environment.\n",
        "2. If a script version of this notebook is desired, comment (not uncomment) the first line of `nbconvert` cell.\n",
        "\n",
        "### Colab installation\n",
        "\n",
        "1.  Comment (not uncomment) the first line of the drive mounting cell.\n",
        "2.  Comment (not uncomment) the first line of the `pip install` cell.\n",
        "\n",
        "<!-- - For colab we also want to set the runtime to GPU by clicking _Change runtime_ in the _Runtime_ menu, and -->\n",
        "<!-- - We want to wait for the google drive connection popup to appear and follow the instructions. -->\n",
        "\n",
        "### Loading / Generating data\n",
        "3. Set `LOAD_DATA_FROM_CSV` to `True` / `False` to load data from csv files / generate data in this notebook.\n",
        "\n",
        "### Training without optimization\n",
        "\n",
        "4. Set `OPTIMIZE = False` in section _Constants and flags to set_.\n",
        "5. Set the desired other settings in _Constants and flags to set_ and the desired subparameters in _Defining the model and search space_ and run the entire notebook.\n",
        "\n",
        "### Training with optimization\n",
        "\n",
        "4. Set `OPTIMIZE = True` in section _Constants and flags to set_.\n",
        "5. Set the desired other settings in _Constants and flags to set_ and hyperparameter search spaces in _Defining the model and search space_ and run the entire notebook.\n",
        "\n",
        "### Loading an already trained model\n",
        "\n",
        "3. Run cells in section _Initialization_.\n",
        "4. Run cells with definitions in section _Input data and labels_.\n",
        "5. Run cell with the definition of _Net_ in section _Defining the neural network_.\n",
        "6. Make sure the `net.pth`, `optimizer.pth`, `scheduler.pth`, `var_dict.json` and `train_output.csv` files are in the directory containing this notebook.\n",
        "7. Run the cells in section _Loading_ and continue from there.\n",
        "\n",
        "### Generating the C++ model\n",
        "\n",
        "8. Run section _Porting the model to C++_, this requires a model to be loaded.\n",
        "9. Set the path to the `net.pt` file in the C++ source file.\n",
        "10. `mkdir build && cd build`,\n",
        "11. Configure a `CMakeLists.txt` file as is done [here](https://pytorch.org/cppdocs/installing.html).\n",
        "12. `cmake -DCMAKE_PREFIX_PATH=/path/to/libtorch/ ..`,\n",
        "13. Compile and run, e.g. `cmake --build . --config release && ./<executable name>`"
      ]
    },
    {
      "attachments": {},
      "cell_type": "markdown",
      "metadata": {},
      "source": [
        "## Initialization"
      ]
    },
    {
      "attachments": {},
      "cell_type": "markdown",
      "metadata": {},
      "source": [
        "\n",
        "Use this first cell to **convert this notebook** to a python script."
      ]
    },
    {
      "cell_type": "code",
      "execution_count": 2,
      "metadata": {
        "colab": {
          "base_uri": "https://localhost:8080/"
        },
        "id": "eqdgdNLHUZhV",
        "outputId": "30907b9d-56c3-44d7-cd43-6387a991a46a",
        "tags": [
          "remove_cell"
        ]
      },
      "outputs": [
        {
          "name": "stderr",
          "output_type": "stream",
          "text": [
            "C:\\Users\\bvptr\\bsc_physics_cleaner\\bsc_env\\lib\\site-packages\\traitlets\\traitlets.py:2548: FutureWarning: Supporting extra quotes around strings is deprecated in traitlets 5.0. You can use 'remove_cell' instead of \"'remove_cell'\" if you require traitlets >=5.\n",
            "  warn(\n",
            "[NbConvertApp] Converting notebook NNGR1.ipynb to script\n",
            "[NbConvertApp] Writing 77090 bytes to NNGR1.py\n"
          ]
        }
      ],
      "source": [
        "#%%script echo skipping\n",
        "\n",
        "!jupyter nbconvert NNGR1.ipynb --TagRemovePreprocessor.enabled=True --TagRemovePreprocessor.remove_cell_tags='{\"remove_cell\"}' --to script"
      ]
    },
    {
      "attachments": {},
      "cell_type": "markdown",
      "metadata": {
        "id": "nzcUr0LnUZhw"
      },
      "source": [
        "Next some cells for working on google colab. NOTE that we need to define `save_file` even if we are not working with a mounted drive."
      ]
    },
    {
      "cell_type": "code",
      "execution_count": 2,
      "metadata": {},
      "outputs": [],
      "source": [
        "import os\n",
        "import shutil\n",
        "\n",
        "# check if the drive is mounted\n",
        "drive_mounted = os.path.exists(\"/content/drive\")\n",
        "# change this to your desired folder\n",
        "drive_folder = \"/content/drive/My Drive/desired_path\"\n",
        "\n",
        "# define a function to save a file to the drive or the current directory\n",
        "def save_file(file_name):\n",
        "  if drive_mounted:\n",
        "    # save the file to the drive folder\n",
        "    file_path = os.path.join(drive_folder, file_name)\n",
        "    # copy the file from the current directory to the drive folder\n",
        "    shutil.copyfile(file_name, file_path)\n",
        "  else:\n",
        "    # do nothing as the file is already in the current directory\n",
        "    pass\n"
      ]
    },
    {
      "cell_type": "code",
      "execution_count": 3,
      "metadata": {
        "colab": {
          "base_uri": "https://localhost:8080/"
        },
        "id": "ecHw2_xlUZhx",
        "outputId": "462a57cd-ee19-4961-d3aa-ff2407b2bde0"
      },
      "outputs": [
        {
          "name": "stdout",
          "output_type": "stream",
          "text": [
            "Couldn't find program: 'echo'\n"
          ]
        }
      ],
      "source": [
        "%%script echo skipping\n",
        "\n",
        "from google.colab import drive\n",
        "drive.mount('/content/drive')"
      ]
    },
    {
      "cell_type": "code",
      "execution_count": 4,
      "metadata": {
        "colab": {
          "base_uri": "https://localhost:8080/"
        },
        "id": "T1rcStMLUZhy",
        "outputId": "7ea7311f-f054-4a29-d0ff-12849095ab6e"
      },
      "outputs": [
        {
          "name": "stdout",
          "output_type": "stream",
          "text": [
            "Couldn't find program: 'echo'\n"
          ]
        }
      ],
      "source": [
        "%%script echo skipping\n",
        "\n",
        "!pip install optuna optuna[visualization] tensorboard tensorboardX plotly"
      ]
    },
    {
      "attachments": {},
      "cell_type": "markdown",
      "metadata": {
        "id": "38GvmerjUZhz"
      },
      "source": [
        "### Constants and flags to set\n",
        "Defining some constants and parameters for convenience.\n",
        "\n",
        "**NOTE**: Some **subparameters** still need to be adjusted in the `create_model` function itself as of (Tue May 16 07:42:45 AM CEST 2023) in the case the model is being trained without optimization."
      ]
    },
    {
      "cell_type": "code",
      "execution_count": null,
      "metadata": {},
      "outputs": [],
      "source": [
        "import numpy as np\n",
        "import matplotlib.pyplot as plt\n",
        "import torch\n",
        "import torch.nn as nn\n",
        "import torch.optim as optim\n",
        "import torch.nn.functional as F\n",
        "import optuna\n",
        "import optuna.visualization as ov\n",
        "import tensorboardX as tbx\n",
        "import pandas as pd\n",
        "import pickle\n",
        "import json\n",
        "import pandas as pd"
      ]
    },
    {
      "cell_type": "code",
      "execution_count": 11,
      "metadata": {
        "id": "ei6VZDYKUZh0"
      },
      "outputs": [],
      "source": [
        "\n",
        "# Checking if GPU is available and setting the device accordingly\n",
        "device = torch.device(\"cuda\" if torch.cuda.is_available() else \"cpu\")\n",
        "\n",
        "N_TRIALS = 250 # Number of trials for hyperparameter optimization \n",
        "OPTIMIZE = True # Whether to optimize the hyperparameters or to use predetermined values. \n",
        "ZSCORE_NORMALIZATION = False # Whether to z-score normalize the input data.\n",
        "LOAD_DATA_FROM_CSV = False  # If not true we generate the data in this file and save to {x_train,y_train,x_test,y_test}.csv, otherwise we load the data from files of the same name.\n",
        "STUDY_NAME = None\n",
        "# STUDY_NAME = \"TestStudy\"\n",
        "\n",
        "csv_filenames = { # File names to load input data and labels from if LOAD_DATA_FROM_CSV is True.\n",
        "    \"x_train\": \"x_train.csv\",\n",
        "    \"x_val\": \"x_val.csv\",\n",
        "    \"x_test\": \"x_test.csv\",\n",
        "    \"y_train\": \"y_train.csv\",\n",
        "    \"y_val\": \"y_val.csv\",\n",
        "    \"y_test\": \"y_test.csv\",\n",
        "}\n",
        "\n",
        "# Values to use for hyperparameters if OPTIMIZE is False; set these to the best parameters found by Optuna.\n",
        "# NOTE: TODO: Currently (Sat May 27 05:16:57 PM CEST 2023) there are still subparameters to be set in create_model function.\n",
        "N_LAYERS_NO_OPT = 3\n",
        "N_UNITS_NO_OPT = [555, 458, 115]\n",
        "HIDDEN_ACTIVATION_NAME_NO_OPT = \"LeakyReLU\"\n",
        "OUTPUT_ACTIVATION_NAME_NO_OPT = \"Linear\"\n",
        "LOSS_NAME_NO_OPT = \"Huber\"\n",
        "OPTIMIZER_NAME_NO_OPT = \"RMSprop\"\n",
        "LR_NO_OPT = 0.000122770896701404\n",
        "BATCH_SIZE_NO_OPT = 49\n",
        "N_EPOCHS_NO_OPT = 2 # NOTE: Set this properly.\n",
        "SCHEDULER_NAME_NO_OPT = \"ReduceLROnPlateau\"\n",
        "DROPOUT_RATE_NO_OPT = 0.2\n",
        "\n",
        "N_INPUTS = 14  # Number of input features.\n",
        "N_OUTPUTS = 1  # Number of outputs.\n",
        "Gamma = 5/3  # Adiabatic index\n",
        "\n",
        "n_samples = 1e5\n",
        "train_frac = 0.7  # 70% of data for training\n",
        "val_frac = 0.15  # 15% of data for validation, rest for testing\n",
        "\n",
        "rho_interval = (0, 2) \n",
        "epsilon_interval = (1e-2, 2000)  # Will be sampled in log space\n",
        "vx_interval = (0, 0.999)  \n",
        "vy_interval = (0, 0.999)  \n",
        "vz_interval = (0, 0.999)  \n",
        "Bx_interval = (-10, 10)  \n",
        "By_interval = (-10, 10)  \n",
        "Bz_interval = (-10, 10)  \n",
        "gxx_interval = (0.9, 1.1)\n",
        "gxy_interval = (0, 0.1)\n",
        "gxz_interval = (0, 0.1)\n",
        "gyy_interval = (0.9, 1.1)\n",
        "gyz_interval = (0, 0.1)\n",
        "gzz_interval = (0.9, 1.1)\n",
        "\n",
        "np.random.seed(200) # Comment for true random data.\n"
      ]
    },
    {
      "attachments": {},
      "cell_type": "markdown",
      "metadata": {
        "id": "dlaP5UL2UZh1"
      },
      "source": [
        "## Input data and labels\n",
        "\n",
        "We either generate the data or load the data. First the definitions for generating the data come below."
      ]
    },
    {
      "cell_type": "code",
      "execution_count": 7,
      "metadata": {
        "id": "s_EvGFZcUZh1"
      },
      "outputs": [],
      "source": [
        "# Defining an analytic equation of state (EOS) for an ideal gas\n",
        "def eos_analytic(rho, epsilon):\n",
        "    # Adding some assertions to check that the input tensors are valid and have \n",
        "    # the expected shape and type \n",
        "    assert isinstance(rho, torch.Tensor), \"rho must be a torch.Tensor\"\n",
        "    assert isinstance(epsilon, torch.Tensor), \"epsilon must be a torch.Tensor\"\n",
        "    print('rho.shape: ', rho.shape)\n",
        "    print('epsilon.shape: ', epsilon.shape)\n",
        "    assert rho.shape == epsilon.shape, \"rho and epsilon must have the same shape\"\n",
        "    assert rho.ndim == 1, \"rho and epsilon must be one-dimensional tensors\"\n",
        "    assert rho.dtype == torch.float32, \"rho and epsilon must have dtype torch.float32\"\n",
        "\n",
        "    return (Gamma - 1) * rho * epsilon\n",
        "\n",
        "def sample_primitive_variables_and_metric():\n",
        "    rho = np.random.uniform(*rho_interval)  \n",
        "    epsilon = np.random.uniform(*np.log10(epsilon_interval))\n",
        "    vx = np.random.uniform(*vx_interval)  \n",
        "    vy = np.random.uniform(*vy_interval)  \n",
        "    vz = np.random.uniform(*vz_interval)  \n",
        "    Bx = np.random.uniform(*Bx_interval)  \n",
        "    By = np.random.uniform(*By_interval)  \n",
        "    Bz = np.random.uniform(*Bz_interval)  \n",
        "    gxx = np.random.uniform(*gxx_interval)\n",
        "    gxy = np.random.uniform(*gxy_interval)\n",
        "    gxz = np.random.uniform(*gxz_interval)\n",
        "    gyy = np.random.uniform(*gyy_interval)\n",
        "    gyz = np.random.uniform(*gyz_interval)\n",
        "    gzz = np.random.uniform(*gzz_interval)\n",
        "\n",
        "    return rho, epsilon, vx, vy, vz, Bx, By, Bz, gxx, gxy, gxz, gyy, gyz, gzz\n",
        "\n",
        "def check_sample(rho, epsilon, vx, vy, vz, Bx, By, Bz, gxx, gxy, gxz, gyy, gyz, gzz):\n",
        "    wtemp_expr = 1 - (gxx * vx**2 + gyy * vy**2 + gzz * vz**2 + 2 * gxy * vx * vy + 2 * gxz * vx * vz + 2 * gyz * vy * vz)\n",
        "    sdet_expr = gxx * gyy * gzz + 2 * gxy * gxz * gyz - gxx * gyz ** 2 - gyy * gxz ** 2 - gzz * gxy ** 2\n",
        "    if vx**2 + vy**2 + vz**2 >= 1 or wtemp_expr < 0 or sdet_expr < 0:\n",
        "        # print(f\"Sample failed checks. vx^2+vy^2+vz^2: {vx**2 + vy**2 + vz**2}, wtemp_expr: {wtemp_expr}, sdet_expr: {sdet_expr}\")\n",
        "        return False\n",
        "    else:\n",
        "        # print(f\"Sample passed checks. vx^2+vy^2+vz^2: {vx**2 + vy**2 + vz**2}, wtemp_expr: {wtemp_expr}, sdet_expr: {sdet_expr}\")\n",
        "        return True\n",
        "\n",
        "def generate_samples(n_samples):\n",
        "    samples = []\n",
        "    while len(samples) < n_samples:\n",
        "        sample = sample_primitive_variables_and_metric()\n",
        "        if check_sample(*sample):\n",
        "            samples.append(sample)\n",
        "        # print(f\"Number of valid samples: {len(samples)}\")\n",
        "    return zip(*samples)\n",
        "def sdet(gxx, gxy, gxz, gyy, gyz, gzz):\n",
        "    # Determinant of the three metric.\n",
        "    return (gxx * gyy * gzz + 2 * gxy * gxz * gyz - gxx * gyz ** 2 - gyy * gxz ** 2 - gzz * gxy ** 2) ** 0.5\n",
        "\n",
        "# Defining a function that computes conserved variables from primitive variables and the metric\n",
        "# We follow the source code of GRaM-X: A new GPU-accelerated dynamical spacetime GRMHD code for Exascale\n",
        "# computing with the Einstein Toolkit of Shankar et al.\n",
        "def compute_conserved_variables(rho, epsilon, vx, vy, vz, Bx, By, Bz, gxx, gxy, gxz, gyy, gyz, gzz):\n",
        "    pres = eos_analytic(rho, epsilon)\n",
        "    wtemp = 1 / (1 - (gxx * vx**2 + gyy * vy**2 + gzz * vz**2 +\n",
        "        2 * gxy * vx * vy + 2 * gxz * vx * vz +\n",
        "        2 * gyz * vy * vz))**0.5\n",
        "\n",
        "    vlowx = gxx * vx + gxy * vy + gxz * vz\n",
        "    vlowy = gxy * vx + gyy * vy + gyz * vz\n",
        "    vlowz = gxz * vx + gyz * vy + gzz * vz\n",
        "\n",
        "    Bxlow = gxx * Bx + gxy * By + gxz * Bz\n",
        "    Bylow = gxy * Bx + gyy * By + gyz * Bz\n",
        "    Bzlow = gxz * Bx + gyz * By + gzz * Bz\n",
        "\n",
        "    B2 = Bxlow * Bx + Bylow * By + Bzlow * Bz\n",
        "\n",
        "    Bdotv = Bxlow * vx + Bylow * vy + Bzlow * vz\n",
        "    Bdotv2 = Bdotv * Bdotv\n",
        "    wtemp2 = wtemp * wtemp\n",
        "    b2 = B2 / wtemp2 + Bdotv2\n",
        "    ab0 = wtemp * Bdotv\n",
        "\n",
        "    blowx = (gxx * Bx + gxy * By + gxz * Bz) / wtemp + wtemp * Bdotv * vlowx\n",
        "    blowy = (gxy * Bx + gyy * By + gyz * Bz) / wtemp + wtemp * Bdotv * vlowy\n",
        "    blowz = (gxz * Bx + gyz * By + gzz * Bz) / wtemp + wtemp * Bdotv * vlowz\n",
        "\n",
        "    hrhow2 = (rho * (1 + epsilon) + pres + b2) * (wtemp) * (wtemp)\n",
        "\n",
        "    D = sdet(gxx, gxy, gxz, gyy, gyz, gzz) * rho * (wtemp)\n",
        "    Sx = sdet(gxx, gxy, gxz, gyy, gyz, gzz) * (hrhow2 * vlowx - ab0 * blowx)\n",
        "    Sy = sdet(gxx, gxy, gxz, gyy, gyz, gzz) * (hrhow2 * vlowy - ab0 * blowy)\n",
        "    Sz = sdet(gxx, gxy, gxz, gyy, gyz, gzz) * (hrhow2 * vlowz - ab0 * blowz)\n",
        "    tau = sdet(gxx, gxy, gxz, gyy, gyz, gzz) * (hrhow2 - pres - b2 / 2 - ab0 * ab0) - D\n",
        "    Bconsx = sdet(gxx, gxy, gxz, gyy, gyz, gzz) * Bx\n",
        "    Bconsy = sdet(gxx, gxy, gxz, gyy, gyz, gzz) * By\n",
        "    Bconsz = sdet(gxx, gxy, gxz, gyy, gyz, gzz) * Bz\n",
        "\n",
        "    return D, Sx, Sy, Sz, tau, Bconsx, Bconsy, Bconsz\n",
        "\n",
        "def generate_input_data(rho, epsilon, vx, vy, vz, Bx, By, Bz, gxx, gxy, gxz, gyy, gyz, gzz):\n",
        "    rho = torch.tensor(np.array(rho), dtype=torch.float32).to(device)\n",
        "    epsilon = torch.tensor(np.array(epsilon), dtype=torch.float32).to(device)\n",
        "    vx = torch.tensor(np.array(vx), dtype=torch.float32).to(device)\n",
        "    vy = torch.tensor(np.array(vy), dtype=torch.float32).to(device)\n",
        "    vz = torch.tensor(np.array(vz), dtype=torch.float32).to(device)\n",
        "    Bx = torch.tensor(np.array(Bx), dtype=torch.float32).to(device)\n",
        "    By = torch.tensor(np.array(By), dtype=torch.float32).to(device)\n",
        "    Bz = torch.tensor(np.array(Bz), dtype=torch.float32).to(device)\n",
        "    gxx = torch.tensor(np.array(gxx), dtype=torch.float32).to(device)\n",
        "    gxy = torch.tensor(np.array(gxy), dtype=torch.float32).to(device)\n",
        "    gxz = torch.tensor(np.array(gxz), dtype=torch.float32).to(device)\n",
        "    gyy = torch.tensor(np.array(gyy), dtype=torch.float32).to(device)\n",
        "    gyz = torch.tensor(np.array(gyz), dtype=torch.float32).to(device)\n",
        "    gzz = torch.tensor(np.array(gzz), dtype=torch.float32).to(device)\n",
        "\n",
        "    D, Sx, Sy, Sz, tau, Bscriptx, Bscripty, Bscriptz = compute_conserved_variables(\n",
        "        rho, epsilon, vx, vy, vz, Bx, By, Bz, gxx, gxy, gxz, gyy, gyz, gzz\n",
        "    ) \n",
        "\n",
        "    # Add gxx, gxy, gxz, gyy, gyz, gzz to the tensor\n",
        "    x = torch.stack([D, Sx, Sy, Sz, tau, Bscriptx, Bscripty, Bscriptz, gxx, gxy, gxz, gyy, gyz, gzz], axis=1)\n",
        "    return x\n",
        "\n",
        "# Defining a function that generates output data (labels) from given samples of primitive variables\n",
        "# We use the definitions as given in Recovery schemes for primitive variables in\n",
        "# general-relativistic magnetohydrodynamics of Siegel et al.\n",
        "def generate_labels(rho, epsilon, vx, vy, vz):\n",
        "    # Converting the numpy arrays to torch tensors and moving them to the device\n",
        "    rho = torch.tensor(np.array(rho), dtype=torch.float32).to(device)\n",
        "    epsilon = torch.tensor(np.array(epsilon), dtype=torch.float32).to(device)\n",
        "    vx = torch.tensor(np.array(vx), dtype=torch.float32).to(device)\n",
        "    vy = torch.tensor(np.array(vy), dtype=torch.float32).to(device)\n",
        "    vz = torch.tensor(np.array(vz), dtype=torch.float32).to(device)\n",
        "\n",
        "    # Computing the required quantities\n",
        "    pres = eos_analytic(rho, epsilon)\n",
        "    h = 1 + epsilon + pres / rho\n",
        "    W = 1 / torch.sqrt(1 - (vx * vx + vy * vy + vz * vz))\n",
        "\n",
        "    # Returning the output data tensor\n",
        "    return h * W"
      ]
    },
    {
      "attachments": {},
      "cell_type": "markdown",
      "metadata": {},
      "source": [
        "### Generating or loading input data and labels"
      ]
    },
    {
      "cell_type": "code",
      "execution_count": null,
      "metadata": {},
      "outputs": [],
      "source": [
        "%config InteractiveShell.ast_node_interactivity = \"all\""
      ]
    },
    {
      "cell_type": "code",
      "execution_count": null,
      "metadata": {
        "id": "cKubR6C8UZh4"
      },
      "outputs": [],
      "source": [
        "if LOAD_DATA_FROM_CSV:\n",
        "    # Load the data from CSV files\n",
        "    x_train = pd.read_csv(csv_filenames[\"x_train\"]).values\n",
        "    y_train = pd.read_csv(csv_filenames[\"y_train\"]).values.squeeze()  # reshape to 1D\n",
        "    x_val = pd.read_csv(csv_filenames[\"x_val\"]).values\n",
        "    y_val = pd.read_csv(csv_filenames[\"y_val\"]).values.squeeze()  # reshape to 1D\n",
        "    x_test = pd.read_csv(csv_filenames[\"x_test\"]).values\n",
        "    y_test = pd.read_csv(csv_filenames[\"y_test\"]).values.squeeze()  # reshape to 1D\n",
        "\n",
        "    # Convert numpy arrays to tensors\n",
        "    x_train = torch.from_numpy(x_train).float().to(device)\n",
        "    y_train = torch.from_numpy(y_train).float().to(device)\n",
        "    x_val = torch.from_numpy(x_val).float().to(device)\n",
        "    y_val = torch.from_numpy(y_val).float().to(device)\n",
        "    x_test = torch.from_numpy(x_test).float().to(device)\n",
        "    y_test = torch.from_numpy(y_test).float().to(device)\n",
        "\n",
        "    # This is an alternative to having if clauses around the cells that visualize these variables.\n",
        "    rho = epsilon = vx = vy = vz = Bx = By = Bz = gxx = gxy = gxz = gyy = gyz  = gzz = None"
      ]
    },
    {
      "cell_type": "code",
      "execution_count": null,
      "metadata": {},
      "outputs": [],
      "source": [
        "if not LOAD_DATA_FROM_CSV:\n",
        "    # Sample primitive variables and metric\n",
        "    rho, epsilon, vx, vy, vz, Bx, By, Bz, gxx, gxy, gxz, gyy, gyz, gzz = generate_samples(n_samples)"
      ]
    },
    {
      "cell_type": "code",
      "execution_count": null,
      "metadata": {},
      "outputs": [],
      "source": [
        "if not LOAD_DATA_FROM_CSV:\n",
        "    # Generate data and labels.\n",
        "    x = generate_input_data(rho, epsilon, vx, vy, vz, Bx, By, Bz, gxx, gxy, gxz, gyy, gyz, gzz)\n",
        "    y = generate_labels(rho, epsilon, vx, vy, vz)\n",
        "\n",
        "    # Calculate the number of samples in each set\n",
        "    n_train_samples = int(n_samples * train_frac)\n",
        "    n_val_samples = int(n_samples * val_frac)\n",
        "\n",
        "    # Create the data sets\n",
        "    x_train = x[:n_train_samples]\n",
        "    y_train = y[:n_train_samples]\n",
        "    x_val = x[n_train_samples : n_train_samples + n_val_samples]\n",
        "    y_val = y[n_train_samples : n_train_samples + n_val_samples]\n",
        "    x_test = x[n_train_samples + n_val_samples :]\n",
        "    y_test = y[n_train_samples + n_val_samples :]\n",
        "\n",
        "    # Save the data to CSV files; tensors need to be converted numpy arrays for saving in CSV.\n",
        "    pd.DataFrame(x_train.cpu().numpy()).to_csv(csv_filenames[\"x_train\"], index=False)\n",
        "    save_file(csv_filenames[\"x_train\"])\n",
        "    pd.DataFrame(y_train.cpu().numpy()).to_csv(csv_filenames[\"y_train\"], index=False)\n",
        "    save_file(csv_filenames[\"y_train\"])\n",
        "\n",
        "    pd.DataFrame(x_val.cpu().numpy()).to_csv(csv_filenames[\"x_val\"], index=False)\n",
        "    save_file(csv_filenames[\"x_val\"])\n",
        "    pd.DataFrame(y_val.cpu().numpy()).to_csv(csv_filenames[\"y_val\"], index=False)\n",
        "    save_file(csv_filenames[\"y_val\"])\n",
        "\n",
        "    pd.DataFrame(x_test.cpu().numpy()).to_csv(csv_filenames[\"x_test\"], index=False)\n",
        "    save_file(csv_filenames[\"x_test\"])\n",
        "    pd.DataFrame(y_test.cpu().numpy()).to_csv(csv_filenames[\"y_test\"], index=False)\n",
        "    save_file(csv_filenames[\"y_test\"])"
      ]
    },
    {
      "cell_type": "code",
      "execution_count": null,
      "metadata": {},
      "outputs": [],
      "source": [
        "\n",
        "x_train.shape\n",
        "y_train.shape\n",
        "x_val.shape\n",
        "y_val.shape\n",
        "x_test.shape\n",
        "y_test.shape\n",
        "x_train\n",
        "y_train\n",
        "x_val\n",
        "y_val\n",
        "x_test\n",
        "y_test"
      ]
    },
    {
      "cell_type": "code",
      "execution_count": null,
      "metadata": {},
      "outputs": [],
      "source": [
        "torch.isnan(x_train).any()\n",
        "torch.isnan(x_val).any()\n",
        "torch.isnan(x_test).any()\n",
        "torch.isnan(y_train).any()\n",
        "torch.isnan(y_val).any()\n",
        "torch.isnan(y_test).any()"
      ]
    },
    {
      "cell_type": "code",
      "execution_count": null,
      "metadata": {},
      "outputs": [],
      "source": [
        "nan_mask_train = torch.isnan(x_train)     # get a boolean mask indicating NaN values\n",
        "nan_indices_train = torch.where(nan_mask_train)  # get the indices of the NaN values\n",
        "nan_indices_train\n",
        "# len(nan_indices_train)\n",
        "\n",
        "nan_mask_val = torch.isnan(x_val)     # get a boolean mask indicating NaN values\n",
        "nan_indices_val = torch.where(nan_mask_val)  # get the indices of the NaN values\n",
        "nan_indices_val\n",
        "# len(nan_indices_test)\n",
        "\n",
        "nan_mask_test = torch.isnan(x_test)     # get a boolean mask indicating NaN values\n",
        "nan_indices_test = torch.where(nan_mask_test)  # get the indices of the NaN values\n",
        "nan_indices_test\n",
        "# len(nan_indices_test)"
      ]
    },
    {
      "attachments": {},
      "cell_type": "markdown",
      "metadata": {},
      "source": [
        "## Visualizing the data"
      ]
    },
    {
      "attachments": {},
      "cell_type": "markdown",
      "metadata": {},
      "source": [
        "### Visualizing sampled data"
      ]
    },
    {
      "cell_type": "code",
      "execution_count": null,
      "metadata": {},
      "outputs": [],
      "source": [
        "%%script echo skipping\n",
        "\n",
        "if not LOAD_DATA_FROM_CSV:\n",
        "    rho\n",
        "    epsilon\n",
        "    vx\n",
        "    vy\n",
        "    vz \n",
        "    Bx\n",
        "    By\n",
        "    Bz\n",
        "    gxx\n",
        "    gxy\n",
        "    gxz\n",
        "    gyy\n",
        "    gyz\n",
        "    gzz "
      ]
    },
    {
      "cell_type": "code",
      "execution_count": null,
      "metadata": {},
      "outputs": [],
      "source": [
        "if not LOAD_DATA_FROM_CSV:\n",
        "    print(len(rho))\n",
        "    print(len(epsilon))\n",
        "    print(len(vx))\n",
        "    print(len(vy))\n",
        "    print(len(vz))\n",
        "    print(len(Bx))\n",
        "    print(len(By))\n",
        "    print(len(Bz))\n",
        "    print()\n",
        "    print(len(gxx))\n",
        "    print(len(gxy))\n",
        "    print(len(gxz))\n",
        "    print(len(gyy))\n",
        "    print(len(gyz))\n",
        "    print(len(gzz))"
      ]
    },
    {
      "cell_type": "code",
      "execution_count": null,
      "metadata": {
        "id": "VMp6XJ6RUZh4"
      },
      "outputs": [],
      "source": [
        "%config InteractiveShell.ast_node_interactivity = \"last_expr_or_assign\""
      ]
    },
    {
      "cell_type": "code",
      "execution_count": null,
      "metadata": {},
      "outputs": [],
      "source": [
        "%%script echo skipping\n",
        "\n",
        "plt.hist([np.random.uniform(0, 0.999) for _ in range(n_train_samples)], bins=20)"
      ]
    },
    {
      "cell_type": "code",
      "execution_count": null,
      "metadata": {},
      "outputs": [],
      "source": [
        "%%script echo skipping\n",
        "\n",
        "epsilon"
      ]
    },
    {
      "attachments": {},
      "cell_type": "markdown",
      "metadata": {},
      "source": [
        "The reason the sampling is not uniformly distributed in the following plots is due to the resampling and the fact that we certain values of e.g. velocity are more likely to violate the speed of light constraint than others."
      ]
    },
    {
      "cell_type": "code",
      "execution_count": null,
      "metadata": {
        "colab": {
          "base_uri": "https://localhost:8080/",
          "height": 409
        },
        "id": "E5YFdqKjUZh5",
        "outputId": "fe67d113-f369-495f-9aba-201c71058eb7"
      },
      "outputs": [],
      "source": [
        "#%%script echo skipping\n",
        "\n",
        "if not LOAD_DATA_FROM_CSV:\n",
        "    def plot_histogram(data, xlabel, ylabel, position, bins=20, xlog_scale=False, ylog_scale=False):\n",
        "        plt.subplot(4, 5, position)\n",
        "        plt.hist(data, bins=bins)\n",
        "        plt.xlabel(xlabel)\n",
        "        plt.ylabel(ylabel)\n",
        "        if xlog_scale: # Setting does not work expected for epsilon.\n",
        "            plt.xscale(\"log\")\n",
        "        if ylog_scale: # Setting does not work expected for epsilon.\n",
        "            plt.yscale(\"log\")\n",
        "\n",
        "    # Plotting the histograms of rho, vx, epsilon, b0, b1, b2, and b3\n",
        "    bins = 20\n",
        "    plt.figure(figsize=(20, 16))\n",
        "\n",
        "    plot_histogram(rho, \"rho\", \"Frequency\", 1, bins=bins)\n",
        "    plot_histogram(epsilon, \"epsilon\", \"Frequency\", 2, bins=bins)\n",
        "    plot_histogram(vx, \"vx\", \"Frequency\", 3, bins=bins)\n",
        "    plot_histogram(vy, \"vy\", \"Frequency\", 4, bins=bins)\n",
        "    plot_histogram(vz, \"vz\", \"Frequency\", 5, bins=bins)\n",
        "    plot_histogram(Bx, \"Bx\", \"Frequency\", 6, bins=bins)\n",
        "    plot_histogram(By, \"By\", \"Frequency\", 7, bins=bins)\n",
        "    plot_histogram(Bz, \"Bz\", \"Frequency\", 8, bins=bins)\n",
        "\n",
        "    # Plot these\n",
        "    plot_histogram(gxx, \"gxx\", \"Frequency\", 9, bins=bins)\n",
        "    plot_histogram(gxy, \"gxy\", \"Frequency\", 10, bins=bins)\n",
        "    plot_histogram(gxz, \"gxz\", \"Frequency\", 11, bins=bins)\n",
        "    plot_histogram(gyy, \"gyy\", \"Frequency\", 12, bins=bins)\n",
        "    plot_histogram(gyz, \"gyz\", \"Frequency\", 13, bins=bins)\n",
        "    plot_histogram(gzz, \"gzz\", \"Frequency\", 14, bins=bins)\n",
        "\n",
        "\n",
        "    plt.suptitle(\"Primitive variables and metric\")\n",
        "    plt.tight_layout()\n",
        "    plt.show()\n"
      ]
    },
    {
      "cell_type": "code",
      "execution_count": null,
      "metadata": {},
      "outputs": [],
      "source": [
        "%config InteractiveShell.ast_node_interactivity = \"last_expr_or_assign\""
      ]
    },
    {
      "cell_type": "code",
      "execution_count": null,
      "metadata": {},
      "outputs": [],
      "source": [
        "#%%script echo skipping\n",
        "\n",
        "# Variable names\n",
        "variable_names = [\"D\", \"Sx\", \"Sy\", \"Sz\", \"tau\", \"Bconsx\", \"Bconsy\", \"Bconsz\", \"gxx\", \"gxy\", \"gxz\", \"gyy\", \"gyz\", \"gzz\"]\n",
        "\n",
        "# Plotting histograms of the input variables before z-score normalization\n",
        "plt.figure(figsize=(16, 16))\n",
        "plt.suptitle('Histograms of input variables before (or without at all) z-score normalization', y=1.03)\n",
        "\n",
        "for i in range(N_INPUTS):\n",
        "    plt.subplot(7, 2, i+1)\n",
        "    data = x_train[:, i].cpu().numpy() # Convert tensor to numpy array for percentile calculation\n",
        "    lower_bound, upper_bound = np.percentile(data, [1, 100]) # NOTE: Use this instead to visualize all the data.\n",
        "    # lower_bound, upper_bound = np.percentile(data, [1, 90]) # Calculate 1st and 99th percentile\n",
        "\n",
        "    plt.hist(data, bins=50, range=(lower_bound, upper_bound)) # Set range to the calculated percentile range\n",
        "    plt.xlabel(variable_names[i])\n",
        "    plt.xlim(lower_bound, upper_bound) # Set the x limit to match the range of the histogram\n",
        "\n",
        "plt.subplots_adjust(hspace=0.4, wspace=0.4)\n",
        "plt.show()\n",
        "\n",
        "# Same plotting but for the test data. Adjust the percentile range as needed to zoom in.\n",
        "# plt.figure(figsize=(16, 16))\n",
        "# plt.suptitle('Histograms of input variables before (or without at all) z-score normalization (test data)', y=1.03)\n",
        "\n",
        "# for i in range(14):\n",
        "#     plt.subplot(7, 2, i+1)\n",
        "#     data = x_test[:, i].cpu().numpy() # Convert tensor to numpy array for percentile calculation\n",
        "#     #lower_bound, upper_bound = np.percentile(data, [1, 100]) # NOTE: Use this instead to visualize all the data.\n",
        "#     lower_bound, upper_bound = np.percentile(data, [1, 99]) # Use this to zoom in.\n",
        "\n",
        "#     plt.hist(data, bins=50, range=(lower_bound, upper_bound)) # Set range to the calculated percentile range\n",
        "#     plt.xlabel(variable_names[i])\n",
        "#     plt.xlim(lower_bound, upper_bound) # Set the x limit to match the range of the histogram\n",
        "\n",
        "# plt.subplots_adjust(hspace=0.4, wspace=0.4)\n",
        "# plt.show()\n",
        "\n"
      ]
    },
    {
      "attachments": {},
      "cell_type": "markdown",
      "metadata": {},
      "source": [
        "### Data normalization"
      ]
    },
    {
      "cell_type": "code",
      "execution_count": null,
      "metadata": {},
      "outputs": [],
      "source": [
        "# Computing summary statistics of the input variables before and after z-score normalization\n",
        "print('Summary statistics of input variables before z-score normalization')\n",
        "print(torch.stack([torch.min(x_train, dim=0).values, torch.max(x_train, dim=0).values, torch.nanmean(x_train, dim=0), torch.median(x_train, dim=0).values, torch.std(x_train, dim=0)], dim=1))"
      ]
    },
    {
      "attachments": {},
      "cell_type": "markdown",
      "metadata": {
        "id": "xTEmkR1SUZh7"
      },
      "source": [
        "Perform z-score normalization"
      ]
    },
    {
      "cell_type": "code",
      "execution_count": null,
      "metadata": {},
      "outputs": [],
      "source": [
        "%config InteractiveShell.ast_node_interactivity = \"all\""
      ]
    },
    {
      "cell_type": "code",
      "execution_count": null,
      "metadata": {
        "id": "yPOv6DxhUZh7"
      },
      "outputs": [],
      "source": [
        "if ZSCORE_NORMALIZATION:\n",
        "    \n",
        "    # TODO: Add magnetic field variables to the normalization if I decide to use the old code that is commented out here.\n",
        "    # # Computing the median of each input variable from the training set using torch.nanmedian function\n",
        "    # D_median = torch.nanmedian(x_train[:, 0])\n",
        "    # Sx_median = torch.nanmedian(x_train[:, 1])\n",
        "    # Sy_median = torch.nanmedian(x_train[:, 2])\n",
        "    # Sz_median = torch.nanmedian(x_train[:, 3])\n",
        "    # tau_median = torch.nanmedian(x_train[:, 4])\n",
        "\n",
        "    # # Computing the standard deviation of each input variable from the training set using torch.std function with a boolean mask to ignore nan values\n",
        "    # D_std = torch.std(x_train[~torch.isnan(x_train[:, 0]), 0])\n",
        "    # Sx_std = torch.std(x_train[~torch.isnan(x_train[:, 1]), 1])\n",
        "    # Sy_std = torch.std(x_train[~torch.isnan(x_train[:, 2]), 2])\n",
        "    # Sz_std = torch.std(x_train[~torch.isnan(x_train[:, 3]), 3])\n",
        "    # tau_std = torch.std(x_train[~torch.isnan(x_train[:, 4]), 4])\n",
        "\n",
        "\n",
        "    # # Applying z-score normalization to both train and test sets using the statistics from the training set\n",
        "    # x_train[:, 0] = torch.sub(x_train[:, 0], D_median).div(D_std)\n",
        "    # x_train[:, 1] = torch.sub(x_train[:, 1], Sx_median).div(Sx_std)\n",
        "    # x_train[:, 2] = torch.sub(x_train[:, 2], Sy_median).div(Sy_std)\n",
        "    # x_train[:, 3] = torch.sub(x_train[:, 3], Sz_median).div(Sz_std)\n",
        "    # x_train[:, 4] = torch.sub(x_train[:, 4], tau_median).div(tau_std)\n",
        "\n",
        "    # x_test[:, 0] = torch.sub(x_test[:, 0], D_median).div(D_std)\n",
        "    # x_test[:, 1] = torch.sub(x_test[:, 1], Sx_median).div(Sx_std)\n",
        "    # x_test[:, 2] = torch.sub(x_test[:, 2], Sy_median).div(Sy_std)\n",
        "    # x_test[:, 3] = torch.sub(x_test[:, 3], Sz_median).div(Sz_std)\n",
        "    # x_test[:, 4] = torch.sub(x_test[:, 4], tau_median).div(tau_std)\n",
        "\n",
        "    # Computing the mean and standard deviation of each column\n",
        "    mean = x_train.mean(dim=0)\n",
        "    std = x_train.std(dim=0)\n",
        "\n",
        "    # Applying z-score normalization\n",
        "    x_train = (x_train - mean) / std\n",
        "    # Use the same mean and std from the training data as we don't want test data leakage.\n",
        "    x_test = (x_test - mean) / std\n",
        "\n"
      ]
    },
    {
      "attachments": {},
      "cell_type": "markdown",
      "metadata": {},
      "source": [
        "Plotting the histograms of the input data after normalization if z-score normalization was performed."
      ]
    },
    {
      "cell_type": "code",
      "execution_count": null,
      "metadata": {},
      "outputs": [],
      "source": [
        "%config InteractiveShell.ast_node_interactivity = \"last_expr_or_assign\""
      ]
    },
    {
      "cell_type": "code",
      "execution_count": null,
      "metadata": {},
      "outputs": [],
      "source": [
        "if not LOAD_DATA_FROM_CSV:\n",
        "    if ZSCORE_NORMALIZATION:\n",
        "        # Variable names\n",
        "        variable_names = [\"D\", \"Sx\", \"Sy\", \"Sz\", \"tau\", \"Bconsx\", \"Bconsy\", \"Bconsz\", \"gxx\", \"gxy\", \"gxz\", \"gyy\", \"gyz\", \"gzz\"]\n",
        "\n",
        "        # Plotting histograms of the input variables before z-score normalization\n",
        "        plt.figure(figsize=(16, 16))\n",
        "        plt.suptitle('Histograms of input variables before (or without at all) z-score normalization', y=1.03)\n",
        "\n",
        "        for i in range(N_INPUTS):\n",
        "            plt.subplot(7, 2, i+1)\n",
        "            data = x_train[:, i].cpu().numpy() # Convert tensor to numpy array for percentile calculation\n",
        "            lower_bound, upper_bound = np.percentile(data, [1, 100]) # NOTE: Use this instead to visualize all the data.\n",
        "            # lower_bound, upper_bound = np.percentile(data, [1, 90]) # Calculate 1st and 99th percentile\n",
        "\n",
        "            plt.hist(data, bins=50, range=(lower_bound, upper_bound)) # Set range to the calculated percentile range\n",
        "            plt.xlabel(variable_names[i])\n",
        "            plt.xlim(lower_bound, upper_bound) # Set the x limit to match the range of the histogram\n",
        "\n",
        "        plt.subplots_adjust(hspace=0.4, wspace=0.4)\n",
        "        plt.show()"
      ]
    },
    {
      "cell_type": "code",
      "execution_count": null,
      "metadata": {},
      "outputs": [],
      "source": [
        "if ZSCORE_NORMALIZATION:\n",
        "    # Computing summary statistics of the input variables after z-score normalization\n",
        "    print('Summary statistics of input variables after z-score normalization')\n",
        "    print(torch.stack([torch.min(x_train, dim=0).values, torch.max(x_train, dim=0).values, torch.mean(x_train, dim=0), torch.median(x_train, dim=0).values, torch.std(x_train, dim=0)], dim=1))\n"
      ]
    },
    {
      "attachments": {},
      "cell_type": "markdown",
      "metadata": {},
      "source": [
        "### Visualizing input data and labels"
      ]
    },
    {
      "cell_type": "code",
      "execution_count": null,
      "metadata": {},
      "outputs": [],
      "source": [
        "x_train\n",
        "y_train\n",
        "x_val\n",
        "y_val\n",
        "x_test\n",
        "y_test"
      ]
    },
    {
      "attachments": {},
      "cell_type": "markdown",
      "metadata": {
        "colab": {
          "base_uri": "https://localhost:8080/",
          "height": 407
        },
        "id": "E96p_MsOUZh9",
        "outputId": "4b95bad0-8f3a-4364-eed1-008e0ce2a5e3"
      },
      "source": [
        "Checking if our output is always positive ~~by plotting a histogram of y_train and y_test tensors~~"
      ]
    },
    {
      "cell_type": "code",
      "execution_count": null,
      "metadata": {},
      "outputs": [],
      "source": [
        "import torch\n",
        "\n",
        "# Create a sample tensor\n",
        "tensor = torch.randn(80000, 14)  # Assuming a tensor of shape [80000, 14]\n",
        "tensor\n",
        "\n",
        "\n",
        "# Check if any element is negative\n",
        "any_negative = torch.any(tensor < 0)\n",
        "\n",
        "# Print the result\n",
        "print(any_negative)\n"
      ]
    },
    {
      "cell_type": "code",
      "execution_count": null,
      "metadata": {},
      "outputs": [],
      "source": [
        "y_train.shape\n",
        "any_negative = torch.any(y_train < 0)\n",
        "any_negative\n",
        "\n",
        "y_test.shape\n",
        "any_negative = torch.any(y_test < 0)\n",
        "any_negative\n",
        "\n",
        "x_train.shape\n",
        "any_negative = torch.any(x_train < 0)\n",
        "any_negative"
      ]
    },
    {
      "cell_type": "code",
      "execution_count": null,
      "metadata": {},
      "outputs": [],
      "source": [
        "#%%script echo skipping\n",
        "\n",
        "plt.figure(figsize=(8, 4))\n",
        "plt.subplot(1, 3, 1)\n",
        "plt.hist(y_train.cpu().numpy(), bins=100) # must be cpu here.\n",
        "plt.xlabel(\"y_train\")\n",
        "plt.ylabel(\"Frequency\")\n",
        "plt.xscale(\"log\")\n",
        "plt.subplot(1, 3, 2)\n",
        "plt.hist(y_val.cpu().numpy(), bins=100) # must be cpu here\n",
        "plt.xlabel(\"y_val\")\n",
        "plt.ylabel(\"Frequency\")\n",
        "plt.xscale(\"log\")\n",
        "plt.tight_layout()\n",
        "plt.subplot(1, 3, 3)\n",
        "plt.hist(y_test.cpu().numpy(), bins=100) # must be cpu here\n",
        "plt.xlabel(\"y_test\")\n",
        "plt.ylabel(\"Frequency\")\n",
        "plt.xscale(\"log\")\n",
        "plt.tight_layout()\n",
        "plt.show()\n"
      ]
    },
    {
      "cell_type": "code",
      "execution_count": null,
      "metadata": {
        "id": "FEgjk--AUZh9"
      },
      "outputs": [],
      "source": [
        "%config InteractiveShell.ast_node_interactivity = \"all\""
      ]
    },
    {
      "attachments": {},
      "cell_type": "markdown",
      "metadata": {
        "id": "r2b9GecHUZh9"
      },
      "source": [
        "## Defining the neural network"
      ]
    },
    {
      "cell_type": "code",
      "execution_count": 8,
      "metadata": {
        "id": "Iv8HA-ZXUZh-"
      },
      "outputs": [],
      "source": [
        "# Defining a class for the network\n",
        "class Net(nn.Module):\n",
        "    \"\"\"A class for creating a network with a\n",
        "    variable number of hidden layers and units.\n",
        "\n",
        "    Attributes:\n",
        "        n_layers (int): The number of hidden layers in the network.\n",
        "        n_units (list): A list of integers representing the number of units in each hidden layer.\n",
        "        hidden_activation (torch.nn.Module): The activation function for the hidden layers.\n",
        "        output_activation (torch.nn.Module): The activation function for the output layer.\n",
        "        layers (torch.nn.ModuleList): A list of linear layers in the network.\n",
        "    \"\"\"\n",
        "\n",
        "    def __init__(self, n_layers, n_units, hidden_activation, output_activation, dropout_rate):\n",
        "        \"\"\"Initializes the network with the given hyperparameters.\n",
        "\n",
        "        Args:\n",
        "            n_layers (int): The number of hidden layers in the network.\n",
        "            n_units (list): A list of integers representing the number of units in each hidden layer.\n",
        "            hidden_activation (torch.nn.Module): The activation function for the hidden layers.\n",
        "            output_activation (torch.nn.Module): The activation function for the output layer.\n",
        "            TODO: [ver. Copilot description] dropout_rate (float): The dropout rate to use for all layers.\n",
        "        \"\"\"\n",
        "        super().__init__()\n",
        "        self.n_layers = n_layers\n",
        "        self.n_units = n_units\n",
        "        self.hidden_activation = hidden_activation\n",
        "        self.output_activation = output_activation\n",
        "        self.dropout_rate = dropout_rate\n",
        "\n",
        "        # Creating a list of linear layers with different numbers of units for each layer\n",
        "        self.layers = nn.ModuleList()\n",
        "        self.dropouts = nn.ModuleList()\n",
        "\n",
        "        self.layers.append(nn.Linear(N_INPUTS, n_units[0]))\n",
        "        self.dropouts.append(nn.Dropout(p=dropout_rate))\n",
        "\n",
        "        for i in range(1, n_layers):\n",
        "            self.layers.append(nn.Linear(n_units[i - 1], n_units[i]))\n",
        "            self.dropouts.append(nn.Dropout(p=dropout_rate))\n",
        "\n",
        "        self.layers.append(nn.Linear(n_units[-1], N_OUTPUTS))\n",
        "\n",
        "        # Adding some assertions to check that the input arguments are valid\n",
        "        assert isinstance(n_layers, int) and n_layers > 0, \"n_layers must be a positive integer\"\n",
        "        assert isinstance(n_units, list) and len(n_units) == n_layers, \"n_units must be a list of length n_layers\"\n",
        "        assert all(isinstance(n, int) and n > 0 for n in n_units), \"n_units must contain positive integers\"\n",
        "        assert isinstance(hidden_activation, nn.Module), \"hidden_activation must be a torch.nn.Module\"\n",
        "        assert isinstance(output_activation, nn.Module), \"output_activation must be a torch.nn.Module\"\n",
        "\n",
        "    def forward(self, x):\n",
        "        \"\"\"Performs a forward pass on the input tensor.\n",
        "\n",
        "        Args:\n",
        "            x (torch.Tensor): The input tensor of shape (batch_size, N_INPUTS).\n",
        "\n",
        "        Returns:\n",
        "            torch.Tensor: The output tensor of shape (batch_size, N_OUTPUTS).\n",
        "        \"\"\"\n",
        "        # Adding an assertion to check that the input tensor has the expected shape and type\n",
        "        assert isinstance(x, torch.Tensor), \"x must be a torch.Tensor\"\n",
        "        assert x.shape[1] == N_INPUTS, f\"x must have shape (batch_size, {N_INPUTS})\"\n",
        "\n",
        "        for layer, dropout in zip(self.layers[:-1], self.dropouts):\n",
        "            x = dropout(self.hidden_activation(layer(x)))\n",
        "        # Applying the linear transformation and the activation function on the output layer\n",
        "        x = self.output_activation(self.layers[-1](x)) # No dropout at output layer\n",
        "\n",
        "        return x # Returning the output tensor\n"
      ]
    },
    {
      "cell_type": "code",
      "execution_count": null,
      "metadata": {},
      "outputs": [],
      "source": [
        "%%script echo skipping\n",
        "\n",
        "[1,2,3]\n",
        "[1,2,3][:-1]"
      ]
    },
    {
      "cell_type": "code",
      "execution_count": null,
      "metadata": {},
      "outputs": [],
      "source": [
        "for x in [1,2,3][:-1]:\n",
        "    print(x)\n",
        "\n"
      ]
    },
    {
      "attachments": {},
      "cell_type": "markdown",
      "metadata": {
        "id": "6GNvp55PUZh_"
      },
      "source": [
        "## Defining the model and search space"
      ]
    },
    {
      "cell_type": "code",
      "execution_count": null,
      "metadata": {
        "id": "9a1opluOUZh_"
      },
      "outputs": [],
      "source": [
        "# Defining a function to create a trial network and optimizer\n",
        "def create_model(trial, optimize):\n",
        "    \"\"\"Creates a trial network and optimizer based on the sampled hyperparameters.\n",
        "\n",
        "    Args:\n",
        "        trial (optuna.trial.Trial): The trial object that contains the hyperparameters.\n",
        "        optimize (boolean): Whether to optimize the hyperparameters or to use predefined values.\n",
        "\n",
        "    Returns:\n",
        "        tuple: A tuple of (net, loss_fn, optimizer, batch_size, n_epochs,\n",
        "            scheduler, loss_name, optimizer_name, scheduler_name,\n",
        "            n_units, n_layers, hidden_activation, output_activation),\n",
        "            where net is the trial network,\n",
        "            loss_fn is the loss function,\n",
        "            optimizer is the optimizer,\n",
        "            batch_size is the batch size,\n",
        "            n_epochs is the number of epochs,\n",
        "            scheduler is the learning rate scheduler,\n",
        "            loss_name is the name of the loss function,\n",
        "            optimizer_name is the name of the optimizer,\n",
        "            scheduler_name is the name of the scheduler,\n",
        "            n_units is a list of integers representing\n",
        "            the number of units in each hidden layer,\n",
        "            n_layers is an integer representing the number of hidden layers in the network,\n",
        "            hidden_activation is a torch.nn.Module representing the activation function for the hidden layers,\n",
        "            output_activation is a torch.nn.Module representing the activation function for the output layer,\n",
        "            lr is the (initial) learning rate.\n",
        "            dropout_rate is the dropout rate.\n",
        "    \"\"\"\n",
        "    # If optimize is True, sample the hyperparameters from the search space\n",
        "    if OPTIMIZE:\n",
        "        n_layers = trial.suggest_int(\"n_layers\", 1, 5)\n",
        "        n_units = [trial.suggest_int(f\"n_units_{i}\", 16, 4096) for i in range(n_layers)]\n",
        "\n",
        "        hidden_activation_name = trial.suggest_categorical(\n",
        "            \"hidden_activation\", [\"ReLU\", \"LeakyReLU\", \"ELU\", \"PReLU\", \"Swish\", \"GELU\", \"SoftPlus\"]\n",
        "        )\n",
        "        output_activation_name = trial.suggest_categorical( \"output_activation\", [\"Linear\"])\n",
        "\n",
        "        loss_name = trial.suggest_categorical( \"loss\", [\"MSE\", \"MAE\", \"Huber\"]) \n",
        "\n",
        "        optimizer_name = trial.suggest_categorical( \"optimizer\", [\"Adam\", \"SGD\", \"RMSprop\", \"Adagrad\"] )\n",
        "\n",
        "        lr = trial.suggest_loguniform(\"lr\", 1e-4, 1e-2)\n",
        "\n",
        "        batch_size_list = [32, 64, 128, 256, 512]\n",
        "        batch_size = trial.suggest_categorical(\"batch_size\", batch_size_list)\n",
        "        \n",
        "        n_epochs = trial.suggest_int(\"n_epochs\", 50, 150)\n",
        "\n",
        "        # scheduler_name = trial.suggest_categorical(\"scheduler\", [\"CosineAnnealingLR\", \"ReduceLROnPlateau\", \"StepLR\", \"CyclicLR\"])\n",
        "        scheduler_name = trial.suggest_categorical(\"scheduler\", [\"CosineAnnealingLR\", \"ReduceLROnPlateau\", \"StepLR\"])\n",
        "\n",
        "        # Creating the activation functions from their names\n",
        "        if hidden_activation_name == \"ReLU\":\n",
        "            hidden_activation = nn.ReLU()\n",
        "        elif hidden_activation_name == \"LeakyReLU\":\n",
        "            negative_slope = trial.suggest_uniform(\"leakyrelu_slope\", 0.01, 0.3)\n",
        "            hidden_activation = nn.LeakyReLU(negative_slope=negative_slope)\n",
        "        elif hidden_activation_name == \"ELU\":\n",
        "            hidden_activation = nn.ELU() \n",
        "        elif hidden_activation_name == \"PReLU\":\n",
        "            init = trial.suggest_uniform(\"prelu_init\", 0.1, 0.3)\n",
        "            hidden_activation = nn.PReLU(init=init)\n",
        "        elif hidden_activation_name == \"Swish\":\n",
        "            class Swish(nn.Module):\n",
        "                def forward(self, x):\n",
        "                    return x * torch.sigmoid(x)\n",
        "            hidden_activation = Swish()\n",
        "        elif hidden_activation_name == \"GELU\":\n",
        "            hidden_activation = nn.GELU()\n",
        "        elif hidden_activation_name == \"SoftPlus\":\n",
        "            beta = trial.suggest_uniform(\"softplus_beta\", 0.5, 1.5)\n",
        "            hidden_activation = nn.Softplus(beta=beta) # We don't optimize thresshold subparameters, as it's mainly for numerical stability.\n",
        "\n",
        "        dropout_rate = trial.suggest_uniform(\"dropout_rate\", 0.0, 0.5)\n",
        "\n",
        "\n",
        "    # If optimize is False, use the predefined values\n",
        "    else:\n",
        "        # Setting the hyperparameters to the predefined values\n",
        "        n_layers = N_LAYERS_NO_OPT\n",
        "        n_units = N_UNITS_NO_OPT\n",
        "        hidden_activation_name = HIDDEN_ACTIVATION_NAME_NO_OPT\n",
        "        output_activation_name = OUTPUT_ACTIVATION_NAME_NO_OPT\n",
        "        loss_name = LOSS_NAME_NO_OPT\n",
        "        optimizer_name = OPTIMIZER_NAME_NO_OPT\n",
        "        lr = LR_NO_OPT\n",
        "        batch_size = BATCH_SIZE_NO_OPT\n",
        "        n_epochs = N_EPOCHS_NO_OPT\n",
        "        scheduler_name = SCHEDULER_NAME_NO_OPT\n",
        "\n",
        "        # Creating the activation functions from their names\n",
        "        if hidden_activation_name == \"ReLU\":\n",
        "            hidden_activation = nn.ReLU()\n",
        "        elif hidden_activation_name == \"LeakyReLU\":\n",
        "            negative_slope = 0.01\n",
        "            hidden_activation = nn.LeakyReLU(negative_slope=negative_slope)\n",
        "        elif hidden_activation_name == \"ELU\":\n",
        "            hidden_activation = nn.ELU() \n",
        "        elif hidden_activation_name == \"PReLU\":\n",
        "            init = 0.25\n",
        "            hidden_activation = nn.PReLU(init=init)\n",
        "        elif hidden_activation_name == \"Swish\":\n",
        "            class Swish(nn.Module):\n",
        "                def forward(self, x):\n",
        "                    return x * torch.sigmoid(x)\n",
        "            hidden_activation = Swish()\n",
        "        elif hidden_activation_name == \"GELU\":\n",
        "            hidden_activation = nn.GELU()\n",
        "        elif hidden_activation_name == \"SoftPlus\":\n",
        "            beta = 1\n",
        "            hidden_activation = nn.Softplus(beta=beta) # We don't optimize threshold subparameter, as it's mainly for numerical stability.\n",
        "\n",
        "        dropout_rate = DROPOUT_RATE_NO_OPT\n",
        "\n",
        "\n",
        "    # We used to have options here, but since we have a regression problem with continuous output, we only use Linear.\n",
        "    output_activation = nn.Identity()\n",
        "\n",
        "    # Creating the loss function from its name\n",
        "    if loss_name == \"MSE\":\n",
        "        loss_fn = nn.MSELoss()\n",
        "    elif loss_name == \"MAE\":\n",
        "        loss_fn = nn.L1Loss()\n",
        "    elif loss_name == \"Huber\":\n",
        "        loss_fn = nn.SmoothL1Loss() \n",
        "    elif loss_name == \"Quantile\":\n",
        "        def quantile_loss(y_pred, y_true, q=0.5):\n",
        "            e = y_pred - y_true\n",
        "            return torch.mean(torch.max(q*e, (q-1)*e))\n",
        "        loss_fn = quantile_loss\n",
        "    else:\n",
        "        def log_cosh_loss(y_pred, y_true):\n",
        "            return torch.mean(torch.log(torch.cosh(y_pred - y_true)))\n",
        "        loss_fn = log_cosh_loss\n",
        "\n",
        "    # Creating the network with the sampled hyperparameters\n",
        "    net = Net(n_layers, n_units, hidden_activation, output_activation, dropout_rate).to(device)\n",
        "\n",
        "\n",
        "    if OPTIMIZE:\n",
        "        # Creating the optimizer from its name\n",
        "        if optimizer_name == \"SGD\":\n",
        "            weight_decay = trial.suggest_loguniform(\"weight_decay\", 1e-5, 1e-2)\n",
        "            momentum = trial.suggest_uniform(\"momentum\", 0.0, 0.99)\n",
        "            optimizer = optim.SGD(net.parameters(), lr=lr, weight_decay=weight_decay, momentum=momentum)\n",
        "        elif optimizer_name == \"Adam\":\n",
        "            weight_decay = trial.suggest_loguniform(\"weight_decay\", 1e-5, 1e-2)\n",
        "            beta1 = trial.suggest_uniform(\"beta1\", 0.9, 0.999)\n",
        "            beta2 = trial.suggest_uniform(\"beta2\", 0.999, 0.9999)\n",
        "            optimizer = optim.Adam(net.parameters(), lr=lr, weight_decay=weight_decay, betas=(beta1, beta2))\n",
        "        elif optimizer_name == \"RMSprop\":\n",
        "            optimizer = optim.RMSprop(net.parameters(), lr=lr)\n",
        "        else:\n",
        "            optimizer = optim.Adagrad(net.parameters(), lr=lr)\n",
        "\n",
        "        # Creating the learning rate scheduler from its name\n",
        "        if scheduler_name == \"StepLR\":\n",
        "            step_size = trial.suggest_int(\"step_size\", 5, 15)\n",
        "            gamma = trial.suggest_uniform(\"gamma\", 0.1, 0.5)\n",
        "            scheduler = optim.lr_scheduler.StepLR(optimizer, step_size=step_size, gamma=gamma)\n",
        "        elif scheduler_name == \"ExponentialLR\":\n",
        "            gamma = trial.suggest_uniform(\"gamma\", 0.8, 0.99)\n",
        "            scheduler = optim.lr_scheduler.ExponentialLR(optimizer, gamma=gamma)\n",
        "        elif scheduler_name == \"CosineAnnealingLR\":\n",
        "            if n_epochs < 150:\n",
        "                t_max_fraction = trial.suggest_uniform('t_max_fraction', 0.1, 0.3)\n",
        "            elif n_epochs > 250:\n",
        "                t_max_fraction = trial.suggest_uniform('t_max_fraction', 0.05, 0.1)\n",
        "            else:\n",
        "                t_max_fraction = trial.suggest_uniform('t_max_fraction', 0.1, 0.2)\n",
        "\n",
        "            T_max = int(n_epochs * t_max_fraction)\n",
        "            eta_min = trial.suggest_loguniform(\"eta_min\", 1e-7, 1e-2)\n",
        "            scheduler = optim.lr_scheduler.CosineAnnealingLR(optimizer, T_max=T_max, eta_min=eta_min)\n",
        "        elif scheduler_name == \"ReduceLROnPlateau\":\n",
        "            factor = trial.suggest_uniform(\"factor\", 0.1, 0.5)\n",
        "            patience = trial.suggest_int(\"patience\", 5, 10)\n",
        "            threshold = trial.suggest_loguniform(\"threshold\", 1e-4, 1e-2)\n",
        "            scheduler = optim.lr_scheduler.ReduceLROnPlateau(\n",
        "                optimizer, mode=\"min\", factor=factor, patience=patience, threshold=threshold\n",
        "            )\n",
        "        elif scheduler_name == \"CyclicLR\":\n",
        "            base_lr = trial.suggest_loguniform(\"base_lr\", 1e-6, 1e-2)\n",
        "            max_lr = trial.suggest_loguniform(\"max_lr\", 1e-4, 1)\n",
        "            step_size_up = trial.suggest_int(\"step_size_up\", 200, 2000)\n",
        "            scheduler = optim.lr_scheduler.CyclicLR(optimizer, base_lr=base_lr, max_lr=max_lr, step_size_up=step_size_up)\n",
        "        else:\n",
        "            scheduler = None\n",
        "    else:\n",
        "        # Creating the optimizer from its name\n",
        "        if optimizer_name == \"SGD\":\n",
        "            optimizer = optim.SGD(net.parameters(), lr=lr)\n",
        "        elif optimizer_name == \"Adam\":\n",
        "            optimizer = optim.Adam(net.parameters(), lr=lr)\n",
        "        elif optimizer_name == \"RMSprop\":\n",
        "            optimizer = optim.RMSprop(net.parameters(), lr=lr)\n",
        "        else:\n",
        "            optimizer = optim.Adagrad(net.parameters(), lr=lr)\n",
        "\n",
        "        # Creating the learning rate scheduler from its name\n",
        "        if scheduler_name == \"StepLR\":\n",
        "            scheduler = optim.lr_scheduler.StepLR(optimizer, step_size=10, gamma=0.1)\n",
        "        elif scheduler_name == \"ExponentialLR\":\n",
        "            scheduler = optim.lr_scheduler.ExponentialLR(optimizer, gamma=0.9)\n",
        "        elif scheduler_name == \"CosineAnnealingLR\":\n",
        "            scheduler = optim.lr_scheduler.CosineAnnealingLR(optimizer)\n",
        "        elif scheduler_name == \"ReduceLROnPlateau\":\n",
        "            scheduler = optim.lr_scheduler.ReduceLROnPlateau(\n",
        "                        optimizer, mode=\"min\", factor=0.18979341786654758, patience=11, threshold=0.0017197466122611932 #, min_lr=1e-6\n",
        "                    )\n",
        "        elif scheduler_name == \"CyclicLR\":\n",
        "            # TODO: Change these appropriately.\n",
        "            base_lr = 1e-6\n",
        "            max_lr = 1e-4\n",
        "            step_size_up = 200\n",
        "            scheduler = optim.lr_scheduler.CyclicLR(optimizer, base_lr=base_lr, max_lr=max_lr, step_size_up=step_size_up)\n",
        "        else:\n",
        "            scheduler = None\n",
        "\n",
        "    # Returning all variables needed for saving and loading\n",
        "    return net, loss_fn, optimizer, batch_size, n_epochs, scheduler, loss_name, optimizer_name, scheduler_name, n_units, n_layers, hidden_activation, output_activation, lr, dropout_rate"
      ]
    },
    {
      "attachments": {},
      "cell_type": "markdown",
      "metadata": {
        "id": "l-czA7VvUZiD"
      },
      "source": [
        " ## The training and evaluation loop\n",
        "\n",
        " We first define a couple of functions used in the training and evaluation."
      ]
    },
    {
      "cell_type": "code",
      "execution_count": null,
      "metadata": {
        "id": "aD6FQNmxUZiD"
      },
      "outputs": [],
      "source": [
        "# Defining a function that computes loss and metrics for a given batch\n",
        "def compute_loss_and_metrics(y_pred, y_true, loss_fn):\n",
        "    \"\"\"Computes loss and metrics for a given batch.\n",
        "\n",
        "    Args:\n",
        "        y_pred (torch.Tensor): The predicted pressure tensor of shape (batch_size, 1).\n",
        "        y_true (torch.Tensor): The true pressure tensor of shape (batch_size,).\n",
        "        loss_fn (torch.nn.Module or function): The loss function to use.\n",
        "\n",
        "    Returns:\n",
        "        tuple: A tuple of (loss, l1_norm), where loss is a scalar tensor,\n",
        "            l1_norm is L1 norm for relative error of pressure,\n",
        "            each being a scalar tensor.\n",
        "            linf_norm is Linf norm for relative error of pressure.\n",
        "    \"\"\"\n",
        "    # Reshaping the target tensor to match the input tensor\n",
        "    y_true = y_true.view(-1, 1)\n",
        "\n",
        "    # Computing the loss using the loss function\n",
        "    loss = loss_fn(y_pred, y_true)\n",
        "\n",
        "    # Computing the relative error of pressure\n",
        "    rel_error = torch.abs((y_pred - y_true) / y_true)\n",
        "\n",
        "    # Computing the L1 norm for the relative error of pressure\n",
        "    l1_norm = torch.mean(rel_error) \n",
        "    # Computing the Linf norm for the relative error of pressure\n",
        "    linf_norm = torch.max(rel_error) \n",
        "\n",
        "    # Returning the loss and metrics\n",
        "    return loss, l1_norm, linf_norm\n",
        "\n",
        "\n",
        "# Defining a function that updates the learning rate scheduler with validation loss if applicable\n",
        "def update_scheduler(scheduler, test_loss):\n",
        "    \"\"\"Updates the learning rate scheduler with validation loss if applicable.\n",
        "\n",
        "    Args:\n",
        "        scheduler (torch.optim.lr_scheduler._LRScheduler or None): The learning rate scheduler to use.\n",
        "        test_loss (float): The validation loss to use.\n",
        "\n",
        "    Returns:\n",
        "        None\n",
        "    \"\"\"\n",
        "    # Checking if scheduler is not None\n",
        "    if scheduler is not None:\n",
        "        # Checking if scheduler is ReduceLROnPlateau\n",
        "        if isinstance(scheduler, optim.lr_scheduler.ReduceLROnPlateau):\n",
        "            # Updating the scheduler with test_loss\n",
        "            scheduler.step(test_loss)\n",
        "        else:\n",
        "            # Updating the scheduler without test_loss\n",
        "            scheduler.step()\n"
      ]
    },
    {
      "attachments": {},
      "cell_type": "markdown",
      "metadata": {
        "id": "w1nE662UUZiE"
      },
      "source": [
        "Now for the actual training and evaluation loop,"
      ]
    },
    {
      "cell_type": "code",
      "execution_count": null,
      "metadata": {
        "id": "YAOjgKW3UZiF"
      },
      "outputs": [],
      "source": [
        "# Defining a function to train and evaluate a network\n",
        "def train_and_eval(net, loss_fn, optimizer, batch_size, n_epochs, scheduler, train_loader, val_loader, test_loader, trial=None):\n",
        "    # Initializing lists to store the losses and metrics for each epoch\n",
        "    train_losses = []\n",
        "    val_losses = []\n",
        "    test_losses = []\n",
        "    train_metrics = []\n",
        "    val_metrics = []\n",
        "    test_metrics = []\n",
        "\n",
        "\n",
        "    # Creating a SummaryWriter object to log data for tensorboard\n",
        "    writer = tbx.SummaryWriter()\n",
        "\n",
        "    # Looping over the epochs\n",
        "    for epoch in range(n_epochs):\n",
        "\n",
        "        # Setting the network to training mode\n",
        "        net.train()\n",
        "\n",
        "        # Initializing variables to store the total loss and metrics for the train set\n",
        "        train_loss = 0.0\n",
        "        train_l1_norm = 0.0\n",
        "        train_linf_norm = 0.0\n",
        "\n",
        "        # Looping over the batches in the train set\n",
        "        for x_batch, y_batch in train_loader:\n",
        "\n",
        "            # Moving the batch tensors to the device\n",
        "            x_batch = x_batch.to(device)\n",
        "            y_batch = y_batch.to(device)\n",
        "\n",
        "            # Zeroing the gradients\n",
        "            optimizer.zero_grad()\n",
        "\n",
        "            # Performing a forward pass and computing the loss and metrics\n",
        "            y_pred = net(x_batch)\n",
        "            loss, l1_norm, linf_norm = compute_loss_and_metrics(y_pred, y_batch, loss_fn)\n",
        "\n",
        "\n",
        "            # Performing a backward pass and updating the weights\n",
        "            loss.backward()\n",
        "            optimizer.step()\n",
        "\n",
        "            # Updating the total loss and metrics for the train set\n",
        "            train_loss += loss.item() * x_batch.size(0)\n",
        "            train_l1_norm += l1_norm.item() * x_batch.size(0)\n",
        "            train_linf_norm += linf_norm.item() * x_batch.size(0)\n",
        "\n",
        "        # Computing the average loss and metrics for the train set\n",
        "        train_loss /= len(train_loader.dataset)\n",
        "        train_l1_norm /= len(train_loader.dataset)\n",
        "        train_linf_norm /= len(train_loader.dataset)\n",
        "\n",
        "        # Appending the average loss and metrics for the train set to the lists\n",
        "        train_losses.append(train_loss)\n",
        "        train_metrics.append(\n",
        "            {\n",
        "                \"l1_norm\": train_l1_norm,\n",
        "                \"linf_norm\": train_linf_norm,\n",
        "            }\n",
        "        )\n",
        "\n",
        "        # Logging the average loss and metrics for the train set to tensorboard\n",
        "        writer.add_scalar(\"Loss/train\", train_loss, epoch)\n",
        "        writer.add_scalar(\"L1 norm/train\", train_l1_norm, epoch)\n",
        "        writer.add_scalar(\"Linf norm/train\", train_linf_norm, epoch)\n",
        "\n",
        "        if val_loader is not None:\n",
        "            net.eval()\n",
        "            val_loss = 0.0\n",
        "            val_l1_norm = 0.0\n",
        "            val_linf_norm = 0.0\n",
        "\n",
        "            with torch.no_grad():\n",
        "                for x_batch, y_batch in val_loader:\n",
        "                    x_batch = x_batch.to(device)\n",
        "                    y_batch = y_batch.to(device)\n",
        "                    y_pred = net(x_batch)\n",
        "                    loss, l1_norm, linf_norm = compute_loss_and_metrics(y_pred, y_batch, loss_fn)\n",
        "\n",
        "                    val_loss += loss.item() * x_batch.size(0)\n",
        "                    val_l1_norm += l1_norm.item() * x_batch.size(0)\n",
        "                    val_linf_norm += linf_norm.item() * x_batch.size(0)\n",
        "\n",
        "            val_loss /= len(val_loader.dataset)\n",
        "            val_l1_norm /= len(val_loader.dataset)\n",
        "            val_linf_norm /= len(val_loader.dataset)\n",
        "\n",
        "            val_losses.append(val_loss)\n",
        "            val_metrics.append(\n",
        "                {\n",
        "                    \"l1_norm\": val_l1_norm,\n",
        "                    \"linf_norm\": val_linf_norm,\n",
        "                }\n",
        "            )\n",
        "\n",
        "            writer.add_scalar(\"Loss/val\", val_loss, epoch)\n",
        "            writer.add_scalar(\"L1 norm/val\", val_l1_norm, epoch)\n",
        "            writer.add_scalar(\"Linf norm/val\", val_linf_norm, epoch)\n",
        "            print(f\"Epoch {epoch+1}/{n_epochs}.. Train loss: {train_loss:.3f}.. Val loss: {val_loss:.3f}.. Train L1 norm: {train_l1_norm:.3f}.. Val L1 norm: {val_l1_norm:.3f}.. Train Linf norm: {train_linf_norm:.3f}.. Val Linf norm: {val_linf_norm:.3f}\")\n",
        "\n",
        "\n",
        "            update_scheduler(scheduler, val_loss)\n",
        "\n",
        "        if test_loader is not None:\n",
        "            net.eval()\n",
        "            test_loss = 0.0\n",
        "            test_l1_norm = 0.0\n",
        "            test_linf_norm = 0.0\n",
        "\n",
        "            with torch.no_grad():\n",
        "                for x_batch, y_batch in test_loader:\n",
        "                    x_batch = x_batch.to(device)\n",
        "                    y_batch = y_batch.to(device)\n",
        "                    y_pred = net(x_batch)\n",
        "                    loss, l1_norm, linf_norm = compute_loss_and_metrics(y_pred, y_batch, loss_fn)\n",
        "\n",
        "                    test_loss += loss.item() * x_batch.size(0)\n",
        "                    test_l1_norm += l1_norm.item() * x_batch.size(0)\n",
        "                    test_linf_norm += linf_norm.item() * x_batch.size(0)\n",
        "\n",
        "            test_loss /= len(test_loader.dataset)\n",
        "            test_l1_norm /= len(test_loader.dataset)\n",
        "            test_linf_norm /= len(test_loader.dataset)\n",
        "\n",
        "            test_losses.append(test_loss)\n",
        "            test_metrics.append(\n",
        "                {\n",
        "                    \"l1_norm\": test_l1_norm,\n",
        "                    \"linf_norm\": test_linf_norm,\n",
        "                }\n",
        "            )\n",
        "\n",
        "            writer.add_scalar(\"Loss/test\", test_loss, epoch)\n",
        "            writer.add_scalar(\"L1 norm/test\", test_l1_norm, epoch)\n",
        "            writer.add_scalar(\"Linf norm/test\", test_linf_norm, epoch)\n",
        "            print(f\"Epoch {epoch+1}/{n_epochs}.. Train loss: {train_loss:.3f}.. Test loss: {test_loss:.3f}.. Train L1 norm: {train_l1_norm:.3f}.. Test L1 norm: {test_l1_norm:.3f}.. Train Linf norm: {train_linf_norm:.3f}.. Test Linf norm: {test_linf_norm:.3f}\")\n",
        "\n",
        "\n",
        "        # Reporting the intermediate metric value to Optuna if trial is not None\n",
        "        if trial is not None:\n",
        "            trial.report(val_l1_norm, epoch)\n",
        "\n",
        "            if trial.should_prune():\n",
        "                raise optuna.TrialPruned()\n",
        "\n",
        "    # Closing the SummaryWriter object\n",
        "    writer.close()\n",
        "\n",
        "    # Returning the losses and metrics lists\n",
        "    return train_losses, val_losses, test_losses, train_metrics, val_metrics, test_metrics\n"
      ]
    },
    {
      "attachments": {},
      "cell_type": "markdown",
      "metadata": {
        "id": "xg9jz0SvUZiQ"
      },
      "source": [
        "## The objective function and hyperparameter tuning"
      ]
    },
    {
      "cell_type": "code",
      "execution_count": null,
      "metadata": {
        "id": "fmRncQPuUZiR"
      },
      "outputs": [],
      "source": [
        "# Defining an objective function for Optuna to minimize\n",
        "def objective(trial):\n",
        "    \"\"\"Defines an objective function for Optuna to minimize.\n",
        "\n",
        "    Args:\n",
        "        trial (optuna.trial.Trial): The trial object that contains the hyperparameters.\n",
        "\n",
        "    Returns:\n",
        "        float: The validation L1 norm to minimize.\n",
        "    \"\"\"\n",
        "    # Creating a trial network and optimizer using the create_model function\n",
        "    net, \\\n",
        "    loss_fn, \\\n",
        "    optimizer, \\\n",
        "    batch_size, \\\n",
        "    n_epochs, \\\n",
        "    scheduler, \\\n",
        "    loss_name, \\\n",
        "    optimizer_name, \\\n",
        "    scheduler_name, \\\n",
        "    n_units, \\\n",
        "    n_layers, \\\n",
        "    hidden_activation, \\\n",
        "    output_activation, \\\n",
        "    lr, \\\n",
        "    dropout_rate = create_model(trial, optimize=True)\n",
        "\n",
        "    # Create separate data loaders for training and validation\n",
        "    train_loader = torch.utils.data.DataLoader(\n",
        "        torch.utils.data.TensorDataset(x_train, y_train), batch_size=batch_size, shuffle=True\n",
        "    )\n",
        "    val_loader = torch.utils.data.DataLoader(\n",
        "        torch.utils.data.TensorDataset(x_val, y_val), batch_size=batch_size\n",
        "    )\n",
        "    \n",
        "    _, _, _, _, val_metrics, _ = train_and_eval(\n",
        "        net, loss_fn, optimizer, batch_size, n_epochs, scheduler, train_loader, val_loader, None, trial\n",
        "    )\n",
        "\n",
        "    # Returning the last validation L1 norm as the objective value to minimize\n",
        "    return val_metrics[-1][\"l1_norm\"]"
      ]
    },
    {
      "cell_type": "code",
      "execution_count": null,
      "metadata": {
        "id": "GyES4NAyUZiS"
      },
      "outputs": [],
      "source": [
        "# Visualize Optuna study while its running, alternative to tensorboard\n",
        "#from IPython import display\n",
        "import optuna.visualization as ov\n",
        "\n",
        "def callback(study, trial):\n",
        "    with open('all_trials.json', 'a') as f:\n",
        "        # Save the trial number, value, and parameters to a JSON file.\n",
        "        json.dump({\n",
        "            'number': trial.number,\n",
        "            'value': trial.value,\n",
        "            'params': trial.params\n",
        "        }, f)\n",
        "        # Write a newline character after each trial, so that each trial is on a separate line\n",
        "        f.write('\\n')\n",
        "        save_file('all_trials.json')\n",
        "\n",
        "    # Saving the study to a pickle file\n",
        "    with open(f'{STUDY_NAME}.pkl', 'wb') as f:\n",
        "        pickle.dump(study, f)\n",
        "        save_file(f'{STUDY_NAME}.pkl')\n",
        "\n",
        "    # Save the best trial separately as well.\n",
        "    best_trial_params = study.best_trial.params\n",
        "    with open('best_trial_params.json', 'w') as f:\n",
        "        json.dump(best_trial_params, f)\n",
        "        save_file('best_trial_params.json')\n",
        "\n",
        "    # Visualize the optimization history, and save it as an HTML file.\n",
        "    fig1 = ov.plot_optimization_history(study)\n",
        "    fig1.write_html(f\"optimization_history_{STUDY_NAME}.html\")\n",
        "    save_file(f\"optimization_history_{STUDY_NAME}.html\")\n",
        "    fig1.show()\n",
        "\n",
        "    # Do the same for the other visualizations.\n",
        "    fig2 = ov.plot_slice(study)\n",
        "    fig2.write_html(f\"slice_plot_{STUDY_NAME}.html\")\n",
        "    save_file(f\"slice_plot_{STUDY_NAME}.html\")\n",
        "\n",
        "    # if trial.number % 10 == 0:\n",
        "    #     fig3 = ov.plot_contour(study)\n",
        "    #     fig3.write_html(f\"contour_plot_{STUDY_NAME}.html\")\n",
        "    #     save_file(f\"contour_plot_{STUDY_NAME}.html\")\n",
        "\n",
        "    fig4 = ov.plot_parallel_coordinate(study)\n",
        "    fig4.write_html(f\"parallel_coordinate_plot_{STUDY_NAME}.html\")\n",
        "    save_file(f\"parallel_coordinate_plot_{STUDY_NAME}.html\")\n",
        "\n",
        "    if trial.number > 1: # Required\n",
        "      fig5 = ov.plot_param_importances(study)\n",
        "      fig5.write_html(f\"param_importances_plot_{STUDY_NAME}.html\")\n",
        "      save_file(f\"param_importances_plot_{STUDY_NAME}.html\")\n",
        "\n",
        "        \n",
        "if OPTIMIZE:\n",
        "    # Gave an error in my run on arch bsc_physics_env. It doesn't matter anyway, since we use pickle for saving.\n",
        "    # Include the path to the SQLite file in your create_study call.\n",
        "    # study = optuna.create_study(direction=\"minimize\", \n",
        "                                # sampler=optuna.samplers.TPESampler(), \n",
        "                                # pruner=optuna.pruners.MedianPruner(), \n",
        "                                # storage=f'sqlite:///{STUDY_NAME}.db')\n",
        "    study = optuna.create_study(direction=\"minimize\", sampler=optuna.samplers.TPESampler(), pruner=optuna.pruners.MedianPruner())\n",
        "\n",
        "    study.optimize(objective, n_trials=N_TRIALS, callbacks=[callback])\n",
        "    #study.optimize(objective, n_trials=N_TRIALS)"
      ]
    },
    {
      "cell_type": "code",
      "execution_count": null,
      "metadata": {},
      "outputs": [],
      "source": [
        "if OPTIMIZE:\n",
        "    # Optimization History\n",
        "    ov.plot_optimization_history(study).show()\n",
        " \n",
        "    # Slice Plot\n",
        "    ov.plot_slice(study).show()\n",
        " \n",
        "    # Contour Plot\n",
        "    # ov.plot_contour(study).show()\n",
        " \n",
        "    # Parallel Coordinate Plot\n",
        "    ov.plot_parallel_coordinate(study).show()\n",
        " \n",
        "    # Hyperparameter Importance Plot\n",
        "    ov.plot_param_importances(study).show()\n",
        "\n",
        "    # Best trial information\n",
        "    print(\"Best trial:\")\n",
        "    trial = study.best_trial\n",
        "    print(\"  Value: \", trial.value)\n",
        "    print(\"  Params: \")\n",
        "    for key, value in trial.params.items():\n",
        "        print(f\"    {key}: {value}\")\n",
        "\n",
        "    # Saving the study to a pickle file\n",
        "    with open(f'{STUDY_NAME}.pkl', 'wb') as f:\n",
        "        pickle.dump(study, f)\n",
        "        save_file(f'{STUDY_NAME}.pkl')\n",
        "\n",
        "    # Save the best trial separately as well.\n",
        "    best_trial_params = study.best_trial.params\n",
        "    with open('best_trial_params.json', 'w') as f:\n",
        "        json.dump(best_trial_params, f)\n",
        "        save_file('best_trial_params.json')\n",
        "\n"
      ]
    },
    {
      "attachments": {},
      "cell_type": "markdown",
      "metadata": {
        "id": "jmMfE9_dUZiS"
      },
      "source": [
        "## Training the model"
      ]
    },
    {
      "cell_type": "code",
      "execution_count": null,
      "metadata": {
        "id": "phyiHlWEUZiT"
      },
      "outputs": [],
      "source": [
        "# Creating the best network and optimizer using the best hyperparameters\n",
        "if OPTIMIZE:\n",
        "    net, \\\n",
        "    loss_fn, \\\n",
        "    optimizer, \\\n",
        "    batch_size, \\\n",
        "    n_epochs, \\\n",
        "    scheduler, \\\n",
        "    loss_name, \\\n",
        "    optimizer_name, \\\n",
        "    scheduler_name, \\\n",
        "    n_units, \\\n",
        "    n_layers, \\\n",
        "    hidden_activation, \\\n",
        "    output_activation, \\\n",
        "    lr, \\\n",
        "    dropout_rate = create_model(trial, optimize=True)\n",
        "\n",
        "# Creating the network with predefined hyperparameters\n",
        "else:\n",
        "    net, \\\n",
        "    loss_fn, \\\n",
        "    optimizer, \\\n",
        "    batch_size, \\\n",
        "    n_epochs, \\\n",
        "    scheduler, \\\n",
        "    loss_name, \\\n",
        "    optimizer_name, \\\n",
        "    scheduler_name, \\\n",
        "    n_units, \\\n",
        "    n_layers, \\\n",
        "    hidden_activation, \\\n",
        "    output_activation, \\\n",
        "    lr, \\\n",
        "    dropout_rate = create_model(trial=None, optimize=True)"
      ]
    },
    {
      "cell_type": "code",
      "execution_count": null,
      "metadata": {
        "colab": {
          "base_uri": "https://localhost:8080/"
        },
        "id": "_yq-oY81UZiU",
        "outputId": "dbf2f465-bd50-4a20-8926-616c3d2157d0"
      },
      "outputs": [],
      "source": [
        "print(\"loss_fn:\", net)\n",
        "print(\"loss_fn:\", loss_fn)\n",
        "print(\"batch_size:\", batch_size)\n",
        "print(\"n_epochs:\", n_epochs)\n",
        "print(\"scheduler:\", scheduler)\n",
        "print(\"loss_name:\", loss_name)\n",
        "print(\"optimizer_name:\", optimizer_name)\n",
        "print(\"scheduler_name:\", scheduler_name)\n",
        "print(\"n_units:\", n_units)\n",
        "print(\"n_layers:\", n_layers)\n",
        "print(\"hidden_activation:\", hidden_activation)\n",
        "print(\"output_activation:\", output_activation)\n",
        "print(\"lr\", lr)\n",
        "print(\"dropout_rate\", dropout_rate)"
      ]
    },
    {
      "attachments": {},
      "cell_type": "markdown",
      "metadata": {
        "colab": {
          "base_uri": "https://localhost:8080/"
        },
        "id": "E7aLWdZyUZiW",
        "outputId": "8fb1e8c6-5aa3-43a1-a255-712cf9396d0c"
      },
      "source": [
        "After optimizing with Optuna and deciding on the best hyperparameters, we combine the training and validatin set, using that as the new training set for training the model, and then evaluate the model on the test set"
      ]
    },
    {
      "cell_type": "code",
      "execution_count": null,
      "metadata": {},
      "outputs": [],
      "source": [
        "x_train_val = torch.cat((x_train, x_val), 0)\n",
        "y_train_val = torch.cat((y_train, y_val), 0)\n",
        "\n",
        "train_val_loader = torch.utils.data.DataLoader(\n",
        "    torch.utils.data.TensorDataset(x_train_val, y_train_val), batch_size=batch_size, shuffle=True\n",
        ")\n",
        "test_loader = torch.utils.data.DataLoader(\n",
        "    torch.utils.data.TensorDataset(x_test, y_test), batch_size=batch_size\n",
        ")\n",
        "\n",
        "train_losses, _, test_losses, train_metrics, _, test_metrics, = train_and_eval(\n",
        "    net, loss_fn, optimizer, batch_size, n_epochs, scheduler, train_val_loader, None, test_loader, None\n",
        ")"
      ]
    },
    {
      "attachments": {},
      "cell_type": "markdown",
      "metadata": {
        "id": "akNucrgMUZiW"
      },
      "source": [
        "## Saving"
      ]
    },
    {
      "cell_type": "code",
      "execution_count": null,
      "metadata": {
        "id": "LHsrs2Y-UZic"
      },
      "outputs": [],
      "source": [
        "import json\n",
        "\n",
        "# save the network to a .pth file\n",
        "torch.save(net.state_dict(), \"net.pth\")\n",
        "save_file(\"net.pth\")\n",
        "\n",
        "# save the optimizer to a .pth file\n",
        "torch.save(optimizer.state_dict(), \"optimizer.pth\")\n",
        "save_file(\"optimizer.pth\")\n",
        "\n",
        "# save the scheduler to a .pth file if it is not None\n",
        "if scheduler is not None:\n",
        "  torch.save(scheduler.state_dict(), \"scheduler.pth\")\n",
        "  save_file(\"scheduler.pth\")\n",
        "\n",
        "# create a dictionary to store the rest of the variables\n",
        "if isinstance(hidden_activation.__class__.__name__, list):\n",
        "    hidden_activation_name = hidden_activation.__class__.__name__[0]\n",
        "else:\n",
        "    hidden_activation_name = hidden_activation.__class__.__name__\n",
        "\n",
        "if isinstance(output_activation.__class__.__name__, list):\n",
        "    output_activation_name = output_activation.__class__.__name__[0]\n",
        "else:\n",
        "    output_activation_name = output_activation.__class__.__name__\n",
        "\n",
        "var_dict = {\n",
        "  \"batch_size\": batch_size,\n",
        "  \"n_epochs\": n_epochs,\n",
        "  \"loss_name\": loss_name,\n",
        "  \"optimizer_name\": optimizer_name,\n",
        "  \"scheduler_name\": scheduler_name,\n",
        "  \"n_units\": n_units,\n",
        "  \"n_layers\": n_layers,\n",
        "  \"hidden_activation_name\": hidden_activation_name,\n",
        "  \"output_activation_name\": output_activation_name,\n",
        "  \"lr\": lr,\n",
        "  \"dropout_rate\": dropout_rate\n",
        "}\n",
        "\n",
        "# Adding the subparameters to the var_dict for saving\n",
        "if hidden_activation_name == \"LeakyReLU\":\n",
        "  var_dict[\"leakyrelu_slope\"] = hidden_activation.negative_slope\n",
        "elif hidden_activation_name == \"PReLU\":\n",
        "  var_dict[\"prelu_init\"] = hidden_activation.weight.item()  # .item() is needed because weight is a tensor\n",
        "elif hidden_activation_name == \"SoftPlus\":\n",
        "  var_dict[\"softplus_beta\"] = hidden_activation.beta\n",
        "\n",
        "# save the dictionary to a .json file\n",
        "with open(\"var_dict.json\", \"w\") as f:\n",
        "  json.dump(var_dict, f)\n",
        "save_file(\"var_dict.json\")\n",
        "\n",
        "# Saving the output of the training using pandas\n",
        "train_df = pd.DataFrame(\n",
        "    {\n",
        "        \"train_loss\": train_losses,\n",
        "        \"test_loss\": test_losses,\n",
        "        \"train_l1_norm\": [m[\"l1_norm\"] for m in train_metrics],\n",
        "        \"test_l1_norm\": [m[\"l1_norm\"] for m in test_metrics],\n",
        "        \"train_linf_norm\": [m[\"linf_norm\"] for m in train_metrics],\n",
        "        \"test_linf_norm\": [m[\"linf_norm\"] for m in test_metrics],\n",
        "    }\n",
        ")\n",
        "train_df.to_csv(\"train_output.csv\", index=False)\n",
        "save_file(\"train_output.csv\")"
      ]
    },
    {
      "cell_type": "code",
      "execution_count": null,
      "metadata": {},
      "outputs": [],
      "source": [
        "[key for key in var_dict.keys()]"
      ]
    },
    {
      "cell_type": "code",
      "execution_count": null,
      "metadata": {},
      "outputs": [],
      "source": [
        "#%%script echo skipping\n",
        "\n",
        "hidden_activation_name\n",
        "output_activation_name"
      ]
    },
    {
      "attachments": {},
      "cell_type": "markdown",
      "metadata": {
        "id": "qU23l7dIUZie"
      },
      "source": [
        "## Visualizing the results"
      ]
    },
    {
      "cell_type": "code",
      "execution_count": null,
      "metadata": {
        "colab": {
          "base_uri": "https://localhost:8080/",
          "height": 1000
        },
        "id": "cippWZS6UZie",
        "outputId": "f0d6e5c3-945f-481b-a153-e54fed7fe9fa"
      },
      "outputs": [],
      "source": [
        "# First figure: Train and Test L1 Norm\n",
        "plt.figure(figsize=(6, 4))\n",
        "plt.plot([m[\"l1_norm\"] for m in train_metrics], label=\"Train L1 Norm\", color='blue')\n",
        "plt.plot([m[\"l1_norm\"] for m in test_metrics], label=\"Test L1 Norm\", color='red')\n",
        "plt.xlabel(\"Epoch\")\n",
        "plt.ylabel(\"L1 Norm\")\n",
        "plt.title(\"NNGRX Train and Test L1 Norm per Epoch\")\n",
        "plt.yscale(\"log\")\n",
        "plt.grid(True)\n",
        "plt.xlim(right=200)\n",
        "plt.ylim(1e-3, 1e2)\n",
        "plt.legend()\n",
        "plt.tight_layout()\n",
        "# plt.savefig(\"NNGRX_L1_norm_plot.png\", dpi=300)\n",
        "plt.savefig(\"NNGRX_L1_norm_plot.png\")\n",
        "\n",
        "# Second figure: Train and Test Linf Norm\n",
        "plt.figure(figsize=(6, 4))\n",
        "plt.plot([m[\"linf_norm\"] for m in train_metrics], label=\"Train Linf Norm\", color='blue')\n",
        "plt.plot([m[\"linf_norm\"] for m in test_metrics], label=\"Test Linf Norm\", color='red')\n",
        "plt.xlabel(\"Epoch\")\n",
        "plt.ylabel(\"Linf Norm\")\n",
        "plt.title(\"NNGRX Train and Test Linf Norm per Epoch\")\n",
        "plt.yscale(\"log\")\n",
        "plt.grid(True)\n",
        "plt.xlim(right=200)\n",
        "plt.ylim(1e-3, 1e2)\n",
        "plt.legend()\n",
        "plt.tight_layout()\n",
        "# plt.savefig(\"NNGRX_Linf_norm_plot.png\", dpi=300)\n",
        "plt.savefig(\"NNGRX_Linf_norm_plot.png\")\n",
        "\n",
        "# Third figure: MSE of training data and test data\n",
        "plt.figure(figsize=(6, 4))\n",
        "plt.plot(train_losses, label=\"Training Data\", color='blue')\n",
        "plt.plot(test_losses, label=\"Test Data\", color='red')\n",
        "plt.xlabel(\"Epoch\")\n",
        "plt.ylabel(\"MSE\")\n",
        "plt.title(\"NNGRX MSE of Training and Test Data per Epoch\")\n",
        "plt.yscale(\"log\")\n",
        "plt.grid(True)\n",
        "plt.xlim(right=200)\n",
        "plt.ylim(1e-7, 1e0)\n",
        "plt.legend()\n",
        "plt.tight_layout()\n",
        "# plt.savefig(\"NNGRX_MSE_plot.png\", dpi=300)\n",
        "plt.savefig(\"NNGRX_MSE_plot.png\")"
      ]
    },
    {
      "attachments": {},
      "cell_type": "markdown",
      "metadata": {
        "id": "tiEDutxIUZig"
      },
      "source": [
        "## Loading"
      ]
    },
    {
      "cell_type": "code",
      "execution_count": 12,
      "metadata": {
        "colab": {
          "base_uri": "https://localhost:8080/"
        },
        "id": "p7Mj990wUZih",
        "outputId": "a1132948-c3b1-4d75-becf-4efa93c9a7d0"
      },
      "outputs": [
        {
          "data": {
            "text/plain": [
              "<All keys matched successfully>"
            ]
          },
          "execution_count": 12,
          "metadata": {},
          "output_type": "execute_result"
        }
      ],
      "source": [
        "# load the dictionary from the .json file\n",
        "with open(\"var_dict.json\", \"r\") as f:\n",
        "  var_dict_loaded = json.load(f)\n",
        "\n",
        "# extract the variables from the dictionary\n",
        "batch_size_loaded = var_dict_loaded[\"batch_size\"]\n",
        "n_epochs_loaded = var_dict_loaded[\"n_epochs\"]\n",
        "loss_name_loaded = var_dict_loaded[\"loss_name\"]\n",
        "optimizer_name_loaded = var_dict_loaded[\"optimizer_name\"]\n",
        "scheduler_name_loaded = var_dict_loaded[\"scheduler_name\"]\n",
        "n_units_loaded = var_dict_loaded[\"n_units\"]\n",
        "n_layers_loaded = var_dict_loaded[\"n_layers\"]\n",
        "hidden_activation_name_loaded = var_dict_loaded[\"hidden_activation_name\"]\n",
        "output_activation_name_loaded = var_dict_loaded[\"output_activation_name\"]\n",
        "lr_loaded = var_dict_loaded[\"lr\"]\n",
        "dropout_rate_loaded = var_dict_loaded[\"dropout_rate\"]\n",
        "\n",
        "# Loading the activation functions with subparameters\n",
        "if hidden_activation_name_loaded == \"ReLU\":\n",
        "  hidden_activation_loaded = nn.ReLU()\n",
        "elif hidden_activation_name_loaded == \"LeakyReLU\":\n",
        "  negative_slope_loaded = var_dict_loaded.get(\"leakyrelu_slope\", 0.01)  # For backwards compatibiltiy with earlier models; default to 0.01 if not present\n",
        "  hidden_activation_loaded = nn.LeakyReLU(negative_slope=negative_slope_loaded)\n",
        "elif hidden_activation_name_loaded == \"ELU\":\n",
        "  hidden_activation_loaded = nn.ELU()\n",
        "elif hidden_activation_name_loaded == \"PReLU\":\n",
        "  init_loaded = var_dict_loaded.get(\"prelu_init\", 0.25)  # Default to 0.25 if not present\n",
        "  hidden_activation_loaded = nn.PReLU(init=init_loaded)\n",
        "elif hidden_activation_name_loaded == \"Swish\":\n",
        "    class Swish(nn.Module):\n",
        "        def forward(self, x):\n",
        "            return x * torch.sigmoid(x)\n",
        "    hidden_activation_loaded = Swish()\n",
        "elif hidden_activation_name_loaded == \"GELU\":\n",
        "    hidden_activation_loaded = nn.GELU()\n",
        "elif hidden_activation_name_loaded == \"SoftPlus\":\n",
        "  beta_loaded = var_dict_loaded.get(\"softplus_beta\", 1)  # Default to 1 if not present\n",
        "  hidden_activation_loaded = nn.Softplus(beta=beta_loaded)\n",
        "\n",
        "\n",
        "\n",
        "# We used to have options here, but since we have a regression problem with continuous output, we only use Linear.\n",
        "output_activation_loaded = nn.Identity()\n",
        "\n",
        "# load the network from the .pth file\n",
        "net_loaded = Net(\n",
        "    n_layers_loaded, \n",
        "    n_units_loaded, \n",
        "    hidden_activation_loaded, \n",
        "    output_activation_loaded, \n",
        "    dropout_rate_loaded\n",
        ").to(device)\n",
        "\n",
        "if torch.cuda.is_available():\n",
        " net_loaded.load_state_dict(torch.load(\"net.pth\"))\n",
        "else: \n",
        "  net_loaded.load_state_dict(torch.load(\"net.pth\", map_location=torch.device('cpu')))\n",
        "\n",
        "\n",
        "# Creating the loss function from its name\n",
        "if loss_name_loaded == \"MSE\":\n",
        "    loss_fn_loaded = nn.MSELoss()\n",
        "elif loss_name_loaded == \"MAE\":\n",
        "    loss_fn_loaded = nn.L1Loss()\n",
        "elif loss_name_loaded == \"Huber\":\n",
        "    loss_fn_loaded = nn.SmoothL1Loss() \n",
        "elif loss_name_loaded == \"Quantile\":\n",
        "    def quantile_loss(y_pred, y_true, q=0.5):\n",
        "        e = y_pred - y_true\n",
        "        return torch.mean(torch.max(q*e, (q-1)*e))\n",
        "    loss_fn_loaded = quantile_loss\n",
        "\n",
        "# load the optimizer from the .pth file\n",
        "if torch.cuda.is_available():\n",
        "  optimizer_loaded_state_dict = torch.load(\"optimizer.pth\")\n",
        "else:\n",
        "  optimizer_loaded_state_dict = torch.load(\"optimizer.pth\", map_location=torch.device('cpu'))\n",
        "\n",
        "if optimizer_name_loaded == \"SGD\":\n",
        "  # Added getting the weight decay and momentum parameters from the state dict\n",
        "  weight_decay_loaded = optimizer_loaded_state_dict[\"param_groups\"][0][\"weight_decay\"]\n",
        "  momentum_loaded = optimizer_loaded_state_dict[\"param_groups\"][0][\"momentum\"]\n",
        "  optimizer_loaded = optim.SGD(net_loaded.parameters(), lr=lr_loaded, weight_decay=weight_decay_loaded, momentum=momentum_loaded)\n",
        "elif optimizer_name_loaded == \"Adam\":\n",
        "  # Added getting the weight decay and beta parameters from the state dict\n",
        "  weight_decay_loaded = optimizer_loaded_state_dict[\"param_groups\"][0][\"weight_decay\"]\n",
        "  beta1_loaded = optimizer_loaded_state_dict[\"param_groups\"][0][\"betas\"][0]\n",
        "  beta2_loaded = optimizer_loaded_state_dict[\"param_groups\"][0][\"betas\"][1]\n",
        "  optimizer_loaded = optim.Adam(net_loaded.parameters(), lr=lr_loaded, weight_decay=weight_decay_loaded, betas=(beta1_loaded, beta2_loaded))\n",
        "elif optimizer_name_loaded == \"RMSprop\":\n",
        "  optimizer_loaded = optim.RMSprop(net_loaded.parameters(), lr=lr_loaded)\n",
        "elif optimizer_name_loaded == \"Adagrad\":\n",
        "  # Added loading the Adagrad optimizer\n",
        "  optimizer_loaded = optim.Adagrad(net_loaded.parameters(), lr=lr_loaded)\n",
        "optimizer_loaded.load_state_dict(optimizer_loaded_state_dict)\n",
        "\n",
        "# load the scheduler from the .pth file\n",
        "if torch.cuda.is_available():\n",
        "  scheduler_loaded_state_dict = torch.load(\"scheduler.pth\")\n",
        "else: \n",
        "  scheduler_loaded_state_dict = torch.load(\"scheduler.pth\", map_location=torch.device('cpu'))\n",
        "\n",
        "if scheduler_name_loaded == \"StepLR\":\n",
        "  # Added getting the step_size and gamma parameters from the state dict\n",
        "  step_size_loaded = scheduler_loaded_state_dict[\"step_size\"]\n",
        "  gamma_loaded = scheduler_loaded_state_dict[\"gamma\"]\n",
        "  scheduler_loaded = optim.lr_scheduler.StepLR(optimizer_loaded, step_size=step_size_loaded, gamma=gamma_loaded)\n",
        "elif scheduler_name_loaded == \"ExponentialLR\":\n",
        "  # Added getting the gamma parameter from the state dict\n",
        "  gamma_loaded = scheduler_loaded_state_dict[\"gamma\"]\n",
        "  scheduler_loaded = optim.lr_scheduler.ExponentialLR(optimizer_loaded, gamma=gamma_loaded)\n",
        "elif scheduler_name_loaded == \"CosineAnnealingLR\":\n",
        "  # Added getting the T_max parameter from the state dict\n",
        "  T_max_loaded = scheduler_loaded_state_dict[\"T_max\"]\n",
        "  scheduler_loaded = optim.lr_scheduler.CosineAnnealingLR(optimizer_loaded, T_max=T_max_loaded)\n",
        "elif scheduler_name_loaded == \"ReduceLROnPlateau\":\n",
        "  # Added getting the mode, factor, patience, threshold and min_lr parameters from the state dict\n",
        "  mode_loaded = scheduler_loaded_state_dict[\"mode\"]\n",
        "  factor_loaded = scheduler_loaded_state_dict[\"factor\"]\n",
        "  patience_loaded = scheduler_loaded_state_dict[\"patience\"]\n",
        "  threshold_loaded = scheduler_loaded_state_dict[\"threshold\"]\n",
        "  min_lr_loaded = scheduler_loaded_state_dict[\"min_lrs\"][0]\n",
        "  scheduler_loaded = optim.lr_scheduler.ReduceLROnPlateau(\n",
        "                    optimizer_loaded, mode=mode_loaded, factor=factor_loaded, patience=patience_loaded, threshold=threshold_loaded, min_lr=min_lr_loaded\n",
        "                )\n",
        "elif scheduler_name_loaded == \"CyclicLR\":  # Added CyclicLR\n",
        "    base_lr_loaded = scheduler_loaded_state_dict[\"base_lr\"]\n",
        "    max_lr_loaded = scheduler_loaded_state_dict[\"max_lr\"]\n",
        "    step_size_up_loaded = scheduler_loaded_state_dict[\"step_size_up\"]\n",
        "    scheduler_loaded = optim.lr_scheduler.CyclicLR(\n",
        "                    optimizer, base_lr=base_lr_loaded, max_lr=max_lr_loaded, step_size_up=step_size_up_loaded\n",
        "                )\n",
        "else:\n",
        "  scheduler_loaded = None\n",
        "\n",
        "if scheduler_loaded is not None:\n",
        "  # Added loading the state dict to the scheduler_loaded\n",
        "  scheduler_loaded.load_state_dict(scheduler_loaded_state_dict)\n",
        "\n",
        "# Loading the output of the training using pandas\n",
        "train_df_loaded = pd.read_csv(\"train_output.csv\")\n",
        "train_losses_loaded = train_df_loaded[\"train_loss\"].tolist()\n",
        "test_losses_loaded = train_df_loaded[\"test_loss\"].tolist()\n",
        "train_metrics_loaded = [\n",
        "    {\n",
        "        \"l1_norm\": train_df_loaded[\"train_l1_norm\"][i],\n",
        "        \"linf_norm\": train_df_loaded[\"train_linf_norm\"][i],\n",
        "    }\n",
        "    for i in range(len(train_df_loaded))\n",
        "]\n",
        "test_metrics_loaded = [\n",
        "    {\n",
        "        \"l1_norm\": train_df_loaded[\"test_l1_norm\"][i],\n",
        "        \"linf_norm\": train_df_loaded[\"test_linf_norm\"][i],\n",
        "    }\n",
        "    for i in range(len(train_df_loaded))\n",
        "]\n",
        "\n",
        "if STUDY_NAME is not None:\n",
        "  # Loading the study from the SQLite file\n",
        "  # TODO: Fix this one, or we just use pickle\n",
        "  # study_loaded_db = optuna.load_study(study_name=f'{STUDY_NAME}', \n",
        "  #                           storage=f'sqlite:///{STUDY_NAME}.db')\n",
        "\n",
        "  # Loading the study from the pickle file\n",
        "  with open(f'{STUDY_NAME}.pkl', 'rb') as f:\n",
        "      study_loaded_pkl = pickle.load(f)\n",
        "\n",
        "  # To load the best trial's parameters.\n",
        "  with open('best_trial_params.json', 'r') as f:\n",
        "      best_trial_params_loaded = json.load(f)"
      ]
    },
    {
      "cell_type": "code",
      "execution_count": 13,
      "metadata": {},
      "outputs": [
        {
          "data": {
            "text/plain": [
              "512"
            ]
          },
          "execution_count": 13,
          "metadata": {},
          "output_type": "execute_result"
        },
        {
          "data": {
            "text/plain": [
              "500"
            ]
          },
          "execution_count": 13,
          "metadata": {},
          "output_type": "execute_result"
        },
        {
          "data": {
            "text/plain": [
              "'MSE'"
            ]
          },
          "execution_count": 13,
          "metadata": {},
          "output_type": "execute_result"
        },
        {
          "data": {
            "text/plain": [
              "'Adagrad'"
            ]
          },
          "execution_count": 13,
          "metadata": {},
          "output_type": "execute_result"
        },
        {
          "data": {
            "text/plain": [
              "'StepLR'"
            ]
          },
          "execution_count": 13,
          "metadata": {},
          "output_type": "execute_result"
        },
        {
          "data": {
            "text/plain": [
              "[216, 2666, 1459, 485, 103]"
            ]
          },
          "execution_count": 13,
          "metadata": {},
          "output_type": "execute_result"
        },
        {
          "data": {
            "text/plain": [
              "5"
            ]
          },
          "execution_count": 13,
          "metadata": {},
          "output_type": "execute_result"
        },
        {
          "data": {
            "text/plain": [
              "'PReLU'"
            ]
          },
          "execution_count": 13,
          "metadata": {},
          "output_type": "execute_result"
        },
        {
          "data": {
            "text/plain": [
              "'Identity'"
            ]
          },
          "execution_count": 13,
          "metadata": {},
          "output_type": "execute_result"
        },
        {
          "data": {
            "text/plain": [
              "0.0001367351585501817"
            ]
          },
          "execution_count": 13,
          "metadata": {},
          "output_type": "execute_result"
        },
        {
          "data": {
            "text/plain": [
              "0.2864714367779264"
            ]
          },
          "execution_count": 13,
          "metadata": {},
          "output_type": "execute_result"
        }
      ],
      "source": [
        "# %%script echo skipping\n",
        "\n",
        "var_dict_loaded[\"batch_size\"]\n",
        "var_dict_loaded[\"n_epochs\"]\n",
        "var_dict_loaded[\"loss_name\"]\n",
        "var_dict_loaded[\"optimizer_name\"]\n",
        "var_dict_loaded[\"scheduler_name\"]\n",
        "var_dict_loaded[\"n_units\"]\n",
        "var_dict_loaded[\"n_layers\"]\n",
        "var_dict_loaded[\"hidden_activation_name\"]\n",
        "var_dict_loaded[\"output_activation_name\"]\n",
        "var_dict_loaded[\"lr\"]\n",
        "var_dict_loaded[\"dropout_rate\"]\n"
      ]
    },
    {
      "cell_type": "code",
      "execution_count": 14,
      "metadata": {},
      "outputs": [],
      "source": [
        "if STUDY_NAME is not None:\n",
        "    pass\n",
        "    # study_loaded_db"
      ]
    },
    {
      "cell_type": "code",
      "execution_count": 15,
      "metadata": {},
      "outputs": [],
      "source": [
        "if STUDY_NAME is not None:\n",
        "    study_loaded_pkl\n",
        "    study_loaded_pkl.best_params"
      ]
    },
    {
      "cell_type": "code",
      "execution_count": 16,
      "metadata": {},
      "outputs": [],
      "source": [
        "if STUDY_NAME is not None:\n",
        "    best_trial_params_loaded"
      ]
    },
    {
      "cell_type": "code",
      "execution_count": 17,
      "metadata": {},
      "outputs": [
        {
          "name": "stdout",
          "output_type": "stream",
          "text": [
            "Couldn't find program: 'echo'\n"
          ]
        }
      ],
      "source": [
        "%%script echo skipping\n",
        "\n",
        "scheduler_loaded_state_dict[\"mode\"]\n",
        "scheduler_loaded_state_dict[\"factor\"]\n",
        "scheduler_loaded_state_dict[\"patience\"]\n",
        "scheduler_loaded_state_dict[\"threshold\"]\n",
        "scheduler_loaded_state_dict[\"min_lrs\"]\n",
        "\n",
        "\n",
        "scheduler_loaded_state_dict[\"base_lr\"]\n",
        "scheduler_loaded_state_dict[\"max_lr\"]\n",
        "scheduler_loaded_state_dict[\"step_size_up\"]"
      ]
    },
    {
      "cell_type": "code",
      "execution_count": 19,
      "metadata": {},
      "outputs": [
        {
          "data": {
            "text/plain": [
              "{'batch_size': 512,\n",
              " 'n_epochs': 500,\n",
              " 'loss_name': 'MSE',\n",
              " 'optimizer_name': 'Adagrad',\n",
              " 'scheduler_name': 'StepLR',\n",
              " 'n_units': [216, 2666, 1459, 485, 103],\n",
              " 'n_layers': 5,\n",
              " 'hidden_activation_name': 'PReLU',\n",
              " 'output_activation_name': 'Identity',\n",
              " 'lr': 0.0001367351585501817,\n",
              " 'dropout_rate': 0.2864714367779264,\n",
              " 'prelu_init': 0.11276961863040924}"
            ]
          },
          "execution_count": 19,
          "metadata": {},
          "output_type": "execute_result"
        },
        {
          "data": {
            "text/plain": [
              "'PReLU'"
            ]
          },
          "execution_count": 19,
          "metadata": {},
          "output_type": "execute_result"
        }
      ],
      "source": [
        "# %%script echo skipping\n",
        "\n",
        "var_dict_loaded\n",
        "hidden_activation_name_loaded"
      ]
    },
    {
      "cell_type": "code",
      "execution_count": 28,
      "metadata": {
        "colab": {
          "base_uri": "https://localhost:8080/",
          "height": 1000
        },
        "id": "GQ_fcj7zUZii",
        "outputId": "c4979ef0-a99c-4754-e222-3af23a83c1cb"
      },
      "outputs": [
        {
          "data": {
            "text/plain": [
              "[{'l1_norm': 1.2661038803100586, 'linf_norm': 101.74165118128458},\n",
              " {'l1_norm': 1.1603951870600382, 'linf_norm': 42.36725253499349},\n",
              " {'l1_norm': 1.3135860911687216, 'linf_norm': 115.1986713218689},\n",
              " {'l1_norm': 1.1478417198181152, 'linf_norm': 39.25063080190023},\n",
              " {'l1_norm': 1.1281417435328165, 'linf_norm': 47.12870398864746},\n",
              " {'l1_norm': 1.170844096628825, 'linf_norm': 62.18918886057536},\n",
              " {'l1_norm': 1.2076791423797608, 'linf_norm': 70.57151965738932},\n",
              " {'l1_norm': 1.3561561467488608, 'linf_norm': 112.63026608581544},\n",
              " {'l1_norm': 1.1605174237569174, 'linf_norm': 57.060545196533205},\n",
              " {'l1_norm': 1.1269954306284586, 'linf_norm': 40.87102470448812},\n",
              " {'l1_norm': 1.1282611019770303, 'linf_norm': 41.2977509572347},\n",
              " {'l1_norm': 1.2263881327311197, 'linf_norm': 68.94308408203125},\n",
              " {'l1_norm': 1.1222000406265258, 'linf_norm': 38.84563934020997},\n",
              " {'l1_norm': 1.082775530560811, 'linf_norm': 28.50908477274577},\n",
              " {'l1_norm': 1.1350411093393962, 'linf_norm': 47.02155404408773},\n",
              " {'l1_norm': 1.0837252320607502, 'linf_norm': 28.709842323176066},\n",
              " {'l1_norm': 1.081110040918986, 'linf_norm': 27.358455389912923},\n",
              " {'l1_norm': 1.138465403429667, 'linf_norm': 50.99375597203573},\n",
              " {'l1_norm': 1.1002224814097086, 'linf_norm': 35.994368474578856},\n",
              " {'l1_norm': 1.1243903045654298, 'linf_norm': 46.6996740746816},\n",
              " {'l1_norm': 1.1081139234542847, 'linf_norm': 39.502813552856445},\n",
              " {'l1_norm': 1.1056269235610965, 'linf_norm': 38.198444985198975},\n",
              " {'l1_norm': 1.1353977034250895, 'linf_norm': 50.41917142117818},\n",
              " {'l1_norm': 1.0873566457112631, 'linf_norm': 28.26861058349609},\n",
              " {'l1_norm': 1.1385465496699014, 'linf_norm': 50.79501807174682},\n",
              " {'l1_norm': 1.1443946148554485, 'linf_norm': 54.35161997960409},\n",
              " {'l1_norm': 1.2046268325805665, 'linf_norm': 72.19881259206136},\n",
              " {'l1_norm': 1.115104146830241, 'linf_norm': 43.02727151298523},\n",
              " {'l1_norm': 1.089323390388489, 'linf_norm': 32.03774481455485},\n",
              " {'l1_norm': 1.0772236647288005, 'linf_norm': 25.29885757115682},\n",
              " {'l1_norm': 1.0848494807561238, 'linf_norm': 25.20383249689738},\n",
              " {'l1_norm': 1.119217538642883, 'linf_norm': 44.22470983924866},\n",
              " {'l1_norm': 1.1730420623779296, 'linf_norm': 61.32997415466309},\n",
              " {'l1_norm': 1.2108700108210246, 'linf_norm': 71.87011469192505},\n",
              " {'l1_norm': 1.2470513367970784, 'linf_norm': 82.9154817003886},\n",
              " {'l1_norm': 1.26321290918986, 'linf_norm': 87.84298629201253},\n",
              " {'l1_norm': 1.22452857354482, 'linf_norm': 76.4272608194987},\n",
              " {'l1_norm': 1.247136114501953, 'linf_norm': 83.00409673156739},\n",
              " {'l1_norm': 1.2111762424468997, 'linf_norm': 72.05188022079467},\n",
              " {'l1_norm': 1.2094985938390097, 'linf_norm': 72.07354749069214},\n",
              " {'l1_norm': 1.2204679346084597, 'linf_norm': 75.51879343236287},\n",
              " {'l1_norm': 1.1984855341593426, 'linf_norm': 68.72229917093912},\n",
              " {'l1_norm': 1.2293633115768432, 'linf_norm': 77.96677554982503},\n",
              " {'l1_norm': 1.22083743241628, 'linf_norm': 75.31550187479655},\n",
              " {'l1_norm': 1.2154565813064575, 'linf_norm': 73.93264101206462},\n",
              " {'l1_norm': 1.187155348777771, 'linf_norm': 64.88620964864096},\n",
              " {'l1_norm': 1.1801697004318237, 'linf_norm': 62.49112541122437},\n",
              " {'l1_norm': 1.125019149271647, 'linf_norm': 45.954415892028806},\n",
              " {'l1_norm': 1.1373393640518188, 'linf_norm': 49.38501690495809},\n",
              " {'l1_norm': 1.2051183382670083, 'linf_norm': 69.90535876337687},\n",
              " {'l1_norm': 1.1202884992599489, 'linf_norm': 43.33171443303426},\n",
              " {'l1_norm': 1.1038742762883504, 'linf_norm': 37.677748366038},\n",
              " {'l1_norm': 1.1045652587890624, 'linf_norm': 37.82455473454793},\n",
              " {'l1_norm': 1.1095771727879842, 'linf_norm': 39.38291639340719},\n",
              " {'l1_norm': 1.0806182815551757, 'linf_norm': 27.652107067743938},\n",
              " {'l1_norm': 1.0748340019861855, 'linf_norm': 24.524596676890056},\n",
              " {'l1_norm': 1.089366246032715, 'linf_norm': 31.307900599288946},\n",
              " {'l1_norm': 1.115373742167155, 'linf_norm': 40.66841653925578},\n",
              " {'l1_norm': 1.150699839401245, 'linf_norm': 51.02265941136678},\n",
              " {'l1_norm': 1.1285050851186116, 'linf_norm': 43.54326602859497},\n",
              " {'l1_norm': 1.1084596411387126, 'linf_norm': 37.487407776387535},\n",
              " {'l1_norm': 1.1206001613616945, 'linf_norm': 41.53485377070109},\n",
              " {'l1_norm': 1.0857071634292603, 'linf_norm': 29.732029654184977},\n",
              " {'l1_norm': 1.0799611864089966, 'linf_norm': 27.156462258529665},\n",
              " {'l1_norm': 1.071467102432251, 'linf_norm': 23.34790310827891},\n",
              " {'l1_norm': 1.0725256930033369, 'linf_norm': 23.519999128977457},\n",
              " {'l1_norm': 1.0726176560084024, 'linf_norm': 23.78877181224823},\n",
              " {'l1_norm': 1.0954444780349732, 'linf_norm': 33.452948695755005},\n",
              " {'l1_norm': 1.1048401408513386, 'linf_norm': 36.98135038630168},\n",
              " {'l1_norm': 1.087985462061564, 'linf_norm': 30.786103581364948},\n",
              " {'l1_norm': 1.0773572423299154, 'linf_norm': 26.032763895670573},\n",
              " {'l1_norm': 1.090688118871053, 'linf_norm': 32.17501552136739},\n",
              " {'l1_norm': 1.117136473274231, 'linf_norm': 41.88062312838237},\n",
              " {'l1_norm': 1.109565470759074, 'linf_norm': 39.67604724070231},\n",
              " {'l1_norm': 1.1059683449427289, 'linf_norm': 38.12829425824484},\n",
              " {'l1_norm': 1.1184639888763428, 'linf_norm': 42.56267854894002},\n",
              " {'l1_norm': 1.1025322843551637, 'linf_norm': 37.17534431292216},\n",
              " {'l1_norm': 1.0962087296803793, 'linf_norm': 34.48647122764587},\n",
              " {'l1_norm': 1.1328061525344848, 'linf_norm': 47.77693826421102},\n",
              " {'l1_norm': 1.1423418764750162, 'linf_norm': 50.76997570368449},\n",
              " {'l1_norm': 1.178026806195577, 'linf_norm': 61.82077979354858},\n",
              " {'l1_norm': 1.1767890526453657, 'linf_norm': 61.374671483357744},\n",
              " {'l1_norm': 1.1501145177841186, 'linf_norm': 52.70056247889201},\n",
              " {'l1_norm': 1.1370386908213297, 'linf_norm': 48.585214617665606},\n",
              " {'l1_norm': 1.1376203488667809, 'linf_norm': 48.8928479385376},\n",
              " {'l1_norm': 1.154119244003296, 'linf_norm': 53.92747402877808},\n",
              " {'l1_norm': 1.1410443574905396, 'linf_norm': 49.82998955001831},\n",
              " {'l1_norm': 1.1270164790471395, 'linf_norm': 45.16086846364339},\n",
              " {'l1_norm': 1.1432025752385455, 'linf_norm': 50.40471844507853},\n",
              " {'l1_norm': 1.133944799613953, 'linf_norm': 47.4098130259196},\n",
              " {'l1_norm': 1.1045050766626994, 'linf_norm': 37.48369405047099},\n",
              " {'l1_norm': 1.1065504278818763, 'linf_norm': 38.2635062151591},\n",
              " {'l1_norm': 1.109932439994812, 'linf_norm': 39.5681138885498},\n",
              " {'l1_norm': 1.1124641525268557, 'linf_norm': 40.48782897109985},\n",
              " {'l1_norm': 1.121786785252889, 'linf_norm': 43.362021366500855},\n",
              " {'l1_norm': 1.1541629992802938, 'linf_norm': 53.8101149559021},\n",
              " {'l1_norm': 1.150594622739156, 'linf_norm': 52.663472400665285},\n",
              " {'l1_norm': 1.1536557604471842, 'linf_norm': 53.76106958185832},\n",
              " {'l1_norm': 1.135243918164571, 'linf_norm': 47.99353534444173},\n",
              " {'l1_norm': 1.1494098000208537, 'linf_norm': 52.26028881505331},\n",
              " {'l1_norm': 1.1991939206441244, 'linf_norm': 67.87028456115722},\n",
              " {'l1_norm': 1.1860037134806316, 'linf_norm': 63.50158489939372},\n",
              " {'l1_norm': 1.1769504857381186, 'linf_norm': 60.50194782536825},\n",
              " {'l1_norm': 1.1571159037272136, 'linf_norm': 54.08965006078084},\n",
              " {'l1_norm': 1.160297412109375, 'linf_norm': 55.074786468505856},\n",
              " {'l1_norm': 1.1702886395136516, 'linf_norm': 57.95529913533529},\n",
              " {'l1_norm': 1.1746500507990518, 'linf_norm': 59.38858169504802},\n",
              " {'l1_norm': 1.1899514381408691, 'linf_norm': 64.28288811009725},\n",
              " {'l1_norm': 1.162742226219177, 'linf_norm': 55.57472845637004},\n",
              " {'l1_norm': 1.155913446553548, 'linf_norm': 53.62699347712199},\n",
              " {'l1_norm': 1.178790264002482, 'linf_norm': 60.75701007614136},\n",
              " {'l1_norm': 1.1658826157887776, 'linf_norm': 56.7357280225118},\n",
              " {'l1_norm': 1.133377820396423, 'linf_norm': 46.71163940022787},\n",
              " {'l1_norm': 1.1347395405451457, 'linf_norm': 47.20434182993571},\n",
              " {'l1_norm': 1.1534450993855794, 'linf_norm': 53.30495798823039},\n",
              " {'l1_norm': 1.1409446517944335, 'linf_norm': 49.47137350692749},\n",
              " {'l1_norm': 1.1357064496358236, 'linf_norm': 47.67680854441325},\n",
              " {'l1_norm': 1.128984059270223, 'linf_norm': 45.32050457789103},\n",
              " {'l1_norm': 1.125865343983968, 'linf_norm': 44.40109078928629},\n",
              " {'l1_norm': 1.1064473637898764, 'linf_norm': 37.42653642705282},\n",
              " {'l1_norm': 1.114412620925903, 'linf_norm': 40.48855514818828},\n",
              " {'l1_norm': 1.1120887772878012, 'linf_norm': 39.60835133984884},\n",
              " {'l1_norm': 1.1262316078186034, 'linf_norm': 44.52361548131307},\n",
              " {'l1_norm': 1.1208772071202595, 'linf_norm': 42.860375293223065},\n",
              " {'l1_norm': 1.116083051363627, 'linf_norm': 41.10897549540202},\n",
              " {'l1_norm': 1.1254863651275635, 'linf_norm': 44.25729564272563},\n",
              " {'l1_norm': 1.1402664088567098, 'linf_norm': 48.58043965657552},\n",
              " {'l1_norm': 1.1171297501246134, 'linf_norm': 41.063633897018434},\n",
              " {'l1_norm': 1.1314621985117594, 'linf_norm': 45.91091238835653},\n",
              " {'l1_norm': 1.108671814918518, 'linf_norm': 37.950743073272704},\n",
              " {'l1_norm': 1.1042704301834103, 'linf_norm': 36.30553148549398},\n",
              " {'l1_norm': 1.1046900297164917, 'linf_norm': 36.44977120958964},\n",
              " {'l1_norm': 1.1152125734965006, 'linf_norm': 40.33331788749695},\n",
              " {'l1_norm': 1.1164036687850951, 'linf_norm': 40.8108010433197},\n",
              " {'l1_norm': 1.1210508017222087, 'linf_norm': 42.4245868183136},\n",
              " {'l1_norm': 1.1058012903849284, 'linf_norm': 36.91326029574076},\n",
              " {'l1_norm': 1.1155793401082357, 'linf_norm': 40.38281247037252},\n",
              " {'l1_norm': 1.1223308436075847, 'linf_norm': 42.81847278976441},\n",
              " {'l1_norm': 1.1540545914967857, 'linf_norm': 52.63633229141235},\n",
              " {'l1_norm': 1.156456616973877, 'linf_norm': 53.35715330530802},\n",
              " {'l1_norm': 1.1557084966023763, 'linf_norm': 53.07807299830119},\n",
              " {'l1_norm': 1.164284087816874, 'linf_norm': 55.6954280863444},\n",
              " {'l1_norm': 1.173919684346517, 'linf_norm': 58.64293156560262},\n",
              " {'l1_norm': 1.1648279203414915, 'linf_norm': 55.74505514119466},\n",
              " {'l1_norm': 1.1766167439778643, 'linf_norm': 59.42505237630208},\n",
              " {'l1_norm': 1.1692497245788571, 'linf_norm': 57.00435197474162},\n",
              " {'l1_norm': 1.1635862919489544, 'linf_norm': 55.12141218516032},\n",
              " {'l1_norm': 1.1659319820404053, 'linf_norm': 55.85500760777792},\n",
              " {'l1_norm': 1.1596213600794474, 'linf_norm': 53.66564927037557},\n",
              " {'l1_norm': 1.165817014249166, 'linf_norm': 55.63080749689738},\n",
              " {'l1_norm': 1.1547635834376018, 'linf_norm': 52.27201173070272},\n",
              " {'l1_norm': 1.1473360857645671, 'linf_norm': 49.96462741292318},\n",
              " {'l1_norm': 1.1538481076558431, 'linf_norm': 51.89955112152099},\n",
              " {'l1_norm': 1.1402348018010455, 'linf_norm': 47.94855795516968},\n",
              " {'l1_norm': 1.1660397726694742, 'linf_norm': 55.77894373931885},\n",
              " {'l1_norm': 1.187831041018168, 'linf_norm': 63.1874557492574},\n",
              " {'l1_norm': 1.1793939074198403, 'linf_norm': 60.578349345397946},\n",
              " {'l1_norm': 1.174250394630432, 'linf_norm': 58.90102684987386},\n",
              " {'l1_norm': 1.1873545464833577, 'linf_norm': 63.07646860580444},\n",
              " {'l1_norm': 1.185485768508911, 'linf_norm': 62.43913907190959},\n",
              " {'l1_norm': 1.193224706395467, 'linf_norm': 65.05442523523966},\n",
              " {'l1_norm': 1.1958932578404744, 'linf_norm': 65.87505251286825},\n",
              " {'l1_norm': 1.2092421941757203, 'linf_norm': 69.88578584238688},\n",
              " {'l1_norm': 1.1864056379318235, 'linf_norm': 62.71595684839885},\n",
              " {'l1_norm': 1.174512686729431, 'linf_norm': 58.92478315709432},\n",
              " {'l1_norm': 1.1663057232538858, 'linf_norm': 56.2675059135437},\n",
              " {'l1_norm': 1.157239750289917, 'linf_norm': 53.410372933451335},\n",
              " {'l1_norm': 1.1580262992858887, 'linf_norm': 53.54608272527059},\n",
              " {'l1_norm': 1.1602550877888995, 'linf_norm': 54.24895201746623},\n",
              " {'l1_norm': 1.1669746057510375, 'linf_norm': 56.271235965983074},\n",
              " {'l1_norm': 1.1702920092900595, 'linf_norm': 57.29733021036784},\n",
              " {'l1_norm': 1.179117391459147, 'linf_norm': 60.14950670750936},\n",
              " {'l1_norm': 1.1853697289148966, 'linf_norm': 62.21764772516887},\n",
              " {'l1_norm': 1.168572045707703, 'linf_norm': 56.84078041330973},\n",
              " {'l1_norm': 1.185431392542521, 'linf_norm': 62.29310445760091},\n",
              " {'l1_norm': 1.1792651351292929, 'linf_norm': 60.24782408498128},\n",
              " {'l1_norm': 1.178137492052714, 'linf_norm': 59.86136805674235},\n",
              " {'l1_norm': 1.1707165773391723, 'linf_norm': 57.36884182484945},\n",
              " {'l1_norm': 1.1549655618667602, 'linf_norm': 52.451955346934},\n",
              " {'l1_norm': 1.15106801516215, 'linf_norm': 51.18506979217529},\n",
              " {'l1_norm': 1.154632274309794, 'linf_norm': 52.37967066853841},\n",
              " {'l1_norm': 1.1553495352427166, 'linf_norm': 52.56710191014608},\n",
              " {'l1_norm': 1.1548027624130248, 'linf_norm': 52.352855907948815},\n",
              " {'l1_norm': 1.1575919408162434, 'linf_norm': 53.099474618021645},\n",
              " {'l1_norm': 1.1448135423024497, 'linf_norm': 49.229382344055175},\n",
              " {'l1_norm': 1.1495855058670044, 'linf_norm': 50.72794017893473},\n",
              " {'l1_norm': 1.15106700852712, 'linf_norm': 51.26425214360555},\n",
              " {'l1_norm': 1.1429100938161214, 'linf_norm': 49.23321664708456},\n",
              " {'l1_norm': 1.1467008304595947, 'linf_norm': 50.39549280497233},\n",
              " {'l1_norm': 1.149343676630656, 'linf_norm': 51.06213759307861},\n",
              " {'l1_norm': 1.149524640083313, 'linf_norm': 51.098126670074464},\n",
              " {'l1_norm': 1.1405417160669962, 'linf_norm': 48.58654693959554},\n",
              " {'l1_norm': 1.1436920791625975, 'linf_norm': 49.52640104115804},\n",
              " {'l1_norm': 1.1539430988311767, 'linf_norm': 52.82368138453166},\n",
              " {'l1_norm': 1.1473043687184652, 'linf_norm': 50.91526179758708},\n",
              " {'l1_norm': 1.1392096492767334, 'linf_norm': 48.32852458368937},\n",
              " {'l1_norm': 1.140657062149048, 'linf_norm': 48.77633250630696},\n",
              " {'l1_norm': 1.1452218646367391, 'linf_norm': 50.26962783050537},\n",
              " {'l1_norm': 1.1471767957051595, 'linf_norm': 50.8509092493693},\n",
              " {'l1_norm': 1.1476200564702352, 'linf_norm': 50.9562590771993},\n",
              " {'l1_norm': 1.1456659870783488, 'linf_norm': 50.326482729085285},\n",
              " {'l1_norm': 1.139615053685506, 'linf_norm': 48.46661446126302},\n",
              " {'l1_norm': 1.136955985959371, 'linf_norm': 47.62687689463298},\n",
              " {'l1_norm': 1.136218516031901, 'linf_norm': 47.45716878840128},\n",
              " {'l1_norm': 1.1599872851053874, 'linf_norm': 54.77608954188029},\n",
              " {'l1_norm': 1.157218840789795, 'linf_norm': 53.899500035095215},\n",
              " {'l1_norm': 1.15301956132253, 'linf_norm': 52.536267447662354},\n",
              " {'l1_norm': 1.141154561805725, 'linf_norm': 49.03466126174927},\n",
              " {'l1_norm': 1.149485999107361, 'linf_norm': 51.3731447227478},\n",
              " {'l1_norm': 1.1452933263778686, 'linf_norm': 50.24378398996989},\n",
              " {'l1_norm': 1.1487939645767211, 'linf_norm': 51.23652077331543},\n",
              " {'l1_norm': 1.1533189642588295, 'linf_norm': 52.61583551940918},\n",
              " {'l1_norm': 1.1489529008865356, 'linf_norm': 51.272546350351966},\n",
              " {'l1_norm': 1.144449176534017, 'linf_norm': 49.91489940236409},\n",
              " {'l1_norm': 1.1484089226404826, 'linf_norm': 51.106572410837806},\n",
              " {'l1_norm': 1.1500083147684732, 'linf_norm': 51.57599518407186},\n",
              " {'l1_norm': 1.1483868247350058, 'linf_norm': 51.14261012751261},\n",
              " {'l1_norm': 1.1482456395467122, 'linf_norm': 51.08437981084188},\n",
              " {'l1_norm': 1.1678697879155475, 'linf_norm': 57.880977446746826},\n",
              " {'l1_norm': 1.1629262701670329, 'linf_norm': 56.27575264841715},\n",
              " {'l1_norm': 1.1607533514022828, 'linf_norm': 55.53960732421875},\n",
              " {'l1_norm': 1.1568704226811728, 'linf_norm': 54.268141097005206},\n",
              " {'l1_norm': 1.159417413520813, 'linf_norm': 55.140107874043785},\n",
              " {'l1_norm': 1.157116387494405, 'linf_norm': 54.30684057871501},\n",
              " {'l1_norm': 1.162149476941427, 'linf_norm': 55.91655278498332},\n",
              " {'l1_norm': 1.1623315013885498, 'linf_norm': 55.97961956685384},\n",
              " {'l1_norm': 1.1613297629674275, 'linf_norm': 55.70587805811565},\n",
              " {'l1_norm': 1.155791211128235, 'linf_norm': 53.80500068766276},\n",
              " {'l1_norm': 1.157531603813171, 'linf_norm': 54.40725965321859},\n",
              " {'l1_norm': 1.161413959121704, 'linf_norm': 55.750228425852455},\n",
              " {'l1_norm': 1.161813678487142, 'linf_norm': 55.85920880686442},\n",
              " {'l1_norm': 1.1624637976328531, 'linf_norm': 56.08453627827962},\n",
              " {'l1_norm': 1.1715877141316733, 'linf_norm': 58.98482772191365},\n",
              " {'l1_norm': 1.1766049072901408, 'linf_norm': 60.55898580067952},\n",
              " {'l1_norm': 1.170408177947998, 'linf_norm': 58.60498234736124},\n",
              " {'l1_norm': 1.1680953126271565, 'linf_norm': 57.81703797607422},\n",
              " {'l1_norm': 1.162026366742452, 'linf_norm': 55.88569150034586},\n",
              " {'l1_norm': 1.1654103637695312, 'linf_norm': 57.02922897364299},\n",
              " {'l1_norm': 1.1690546780904134, 'linf_norm': 58.19270392125448},\n",
              " {'l1_norm': 1.171756942685445, 'linf_norm': 59.03916961771648},\n",
              " {'l1_norm': 1.1737773964564004, 'linf_norm': 59.69947005411784},\n",
              " {'l1_norm': 1.1729176396687826, 'linf_norm': 59.398261153920494},\n",
              " {'l1_norm': 1.1706219792683918, 'linf_norm': 58.646754225413005},\n",
              " {'l1_norm': 1.1738137314478556, 'linf_norm': 59.68075317840576},\n",
              " {'l1_norm': 1.172327040608724, 'linf_norm': 59.17991546274821},\n",
              " {'l1_norm': 1.171348717435201, 'linf_norm': 58.9546792350769},\n",
              " {'l1_norm': 1.174556563313802, 'linf_norm': 59.98906051127116},\n",
              " {'l1_norm': 1.1804158208847046, 'linf_norm': 61.83881189626058},\n",
              " {'l1_norm': 1.18302069606781, 'linf_norm': 62.64009387410482},\n",
              " {'l1_norm': 1.1868885686238606, 'linf_norm': 63.76901451009115},\n",
              " {'l1_norm': 1.194088882446289, 'linf_norm': 66.10674408289591},\n",
              " {'l1_norm': 1.1982816628138224, 'linf_norm': 67.3780921005249},\n",
              " {'l1_norm': 1.1962236267089843, 'linf_norm': 66.65294568125407},\n",
              " {'l1_norm': 1.193340372912089, 'linf_norm': 65.71060154266357},\n",
              " {'l1_norm': 1.1944380013783773, 'linf_norm': 65.98458527552287},\n",
              " {'l1_norm': 1.1928959672927857, 'linf_norm': 65.55348654149374},\n",
              " {'l1_norm': 1.199571071879069, 'linf_norm': 67.6356660486857},\n",
              " {'l1_norm': 1.199004751141866, 'linf_norm': 67.39487767893473},\n",
              " {'l1_norm': 1.199921471786499, 'linf_norm': 67.60166245600382},\n",
              " {'l1_norm': 1.1970490292231242, 'linf_norm': 66.88229327468872},\n",
              " {'l1_norm': 1.196871229616801, 'linf_norm': 66.83897166951498},\n",
              " {'l1_norm': 1.191641486867269, 'linf_norm': 65.24589633814495},\n",
              " {'l1_norm': 1.1865120663324993, 'linf_norm': 63.584121320343016},\n",
              " {'l1_norm': 1.1860398166020711, 'linf_norm': 63.41370267283122},\n",
              " {'l1_norm': 1.1841130432764688, 'linf_norm': 62.7651805422465},\n",
              " {'l1_norm': 1.1864134965260824, 'linf_norm': 63.440763256073},\n",
              " {'l1_norm': 1.1908505617777507, 'linf_norm': 64.84502979253134},\n",
              " {'l1_norm': 1.1927590211868286, 'linf_norm': 65.41695634511312},\n",
              " {'l1_norm': 1.1960472003300984, 'linf_norm': 66.41806061909993},\n",
              " {'l1_norm': 1.1890835261027015, 'linf_norm': 64.4195329709371},\n",
              " {'l1_norm': 1.1859494391123453, 'linf_norm': 63.505927224222816},\n",
              " {'l1_norm': 1.1833127176920573, 'linf_norm': 62.65780492757161},\n",
              " {'l1_norm': 1.1842839310328166, 'linf_norm': 62.93323687362671},\n",
              " {'l1_norm': 1.1871436850865682, 'linf_norm': 63.898817855072025},\n",
              " {'l1_norm': 1.1861671588897704, 'linf_norm': 63.54705823186239},\n",
              " {'l1_norm': 1.1909291098276773, 'linf_norm': 65.12914691034953},\n",
              " {'l1_norm': 1.1852442293802896, 'linf_norm': 63.35044612681071},\n",
              " {'l1_norm': 1.185682512029012, 'linf_norm': 63.43940738855998},\n",
              " {'l1_norm': 1.186722815513611, 'linf_norm': 63.76090123214722},\n",
              " {'l1_norm': 1.1866977968851726, 'linf_norm': 63.75058554255168},\n",
              " {'l1_norm': 1.1878186314900716, 'linf_norm': 64.09905567525227},\n",
              " {'l1_norm': 1.1893913990020752, 'linf_norm': 64.65597829055785},\n",
              " {'l1_norm': 1.1849917455037435, 'linf_norm': 63.21660996831258},\n",
              " {'l1_norm': 1.1840562598546347, 'linf_norm': 62.88909988555909},\n",
              " {'l1_norm': 1.1845476766586305, 'linf_norm': 63.010052977498376},\n",
              " {'l1_norm': 1.1901191422780355, 'linf_norm': 64.79211602757772},\n",
              " {'l1_norm': 1.1885172653198242, 'linf_norm': 64.26388253122965},\n",
              " {'l1_norm': 1.191569588216146, 'linf_norm': 65.26547299524943},\n",
              " {'l1_norm': 1.1926627243677774, 'linf_norm': 65.6221001083374},\n",
              " {'l1_norm': 1.1964902076085409, 'linf_norm': 66.8582787572225},\n",
              " {'l1_norm': 1.1969372055689491, 'linf_norm': 67.03968744430541},\n",
              " {'l1_norm': 1.192785847345988, 'linf_norm': 65.71113884455363},\n",
              " {'l1_norm': 1.1951964133580526, 'linf_norm': 66.39689595616659},\n",
              " {'l1_norm': 1.1938142725626628, 'linf_norm': 66.00301805038453},\n",
              " {'l1_norm': 1.1977482420603434, 'linf_norm': 67.2703830696106},\n",
              " {'l1_norm': 1.1980133255640666, 'linf_norm': 67.34503419825236},\n",
              " {'l1_norm': 1.2000539113998414, 'linf_norm': 67.93600678888957},\n",
              " {'l1_norm': 1.2007511451721191, 'linf_norm': 68.144463503774},\n",
              " {'l1_norm': 1.1967940565745037, 'linf_norm': 66.92297965011596},\n",
              " {'l1_norm': 1.197055160331726, 'linf_norm': 67.00920703099568},\n",
              " {'l1_norm': 1.1973529969533283, 'linf_norm': 67.06862652130127},\n",
              " {'l1_norm': 1.1952489622751872, 'linf_norm': 66.62928222935994},\n",
              " {'l1_norm': 1.2000431617736815, 'linf_norm': 68.21351418279012},\n",
              " {'l1_norm': 1.2023785828908284, 'linf_norm': 68.91739062601725},\n",
              " {'l1_norm': 1.2042418575286866, 'linf_norm': 69.45706208114623},\n",
              " {'l1_norm': 1.2004244866689049, 'linf_norm': 68.32138619003295},\n",
              " {'l1_norm': 1.2030959124247234, 'linf_norm': 69.21327820307414},\n",
              " {'l1_norm': 1.20720701491038, 'linf_norm': 70.55675004043579},\n",
              " {'l1_norm': 1.2071231565475464, 'linf_norm': 70.51881258977254},\n",
              " {'l1_norm': 1.209568227704366, 'linf_norm': 71.29580855763753},\n",
              " {'l1_norm': 1.2112595550537109, 'linf_norm': 71.7242854036967},\n",
              " {'l1_norm': 1.208734974161784, 'linf_norm': 70.89876071268718},\n",
              " {'l1_norm': 1.212227276802063, 'linf_norm': 72.0539087176005},\n",
              " {'l1_norm': 1.2135256189346313, 'linf_norm': 72.45200724868775},\n",
              " {'l1_norm': 1.2148375974019368, 'linf_norm': 72.84740333887736},\n",
              " {'l1_norm': 1.2179750758488972, 'linf_norm': 73.74602509511311},\n",
              " {'l1_norm': 1.2182678138097127, 'linf_norm': 73.8252149520874},\n",
              " {'l1_norm': 1.215430716196696, 'linf_norm': 72.96408087717693},\n",
              " {'l1_norm': 1.2104359053293865, 'linf_norm': 71.44007321217855},\n",
              " {'l1_norm': 1.2138945459365844, 'linf_norm': 72.53944360834757},\n",
              " {'l1_norm': 1.2170398327509562, 'linf_norm': 73.47631252517701},\n",
              " {'l1_norm': 1.208889483833313, 'linf_norm': 70.905099634552},\n",
              " {'l1_norm': 1.1963396461486815, 'linf_norm': 66.75117090937296},\n",
              " {'l1_norm': 1.1999713954289757, 'linf_norm': 67.8827762532552},\n",
              " {'l1_norm': 1.2096133490244547, 'linf_norm': 70.76120076955159},\n",
              " {'l1_norm': 1.2103561235427855, 'linf_norm': 70.97827185897827},\n",
              " {'l1_norm': 1.200241212908427, 'linf_norm': 67.58564985097249},\n",
              " {'l1_norm': 1.1951221780141197, 'linf_norm': 65.96390866495769},\n",
              " {'l1_norm': 1.191118238957723, 'linf_norm': 64.77494989064535},\n",
              " {'l1_norm': 1.1907530570348104, 'linf_norm': 64.66533689041138},\n",
              " {'l1_norm': 1.188387059148153, 'linf_norm': 63.91403147481282},\n",
              " {'l1_norm': 1.1875985438664751, 'linf_norm': 63.7192683652242},\n",
              " {'l1_norm': 1.18723464717865, 'linf_norm': 63.59413722127279},\n",
              " {'l1_norm': 1.1857103978474934, 'linf_norm': 63.034220662943525},\n",
              " {'l1_norm': 1.1806954719543457, 'linf_norm': 61.4463706837972},\n",
              " {'l1_norm': 1.184600192451477, 'linf_norm': 62.7342118502299},\n",
              " {'l1_norm': 1.1835769644419352, 'linf_norm': 62.36119833730062},\n",
              " {'l1_norm': 1.1841289160410564, 'linf_norm': 62.52371504745484},\n",
              " {'l1_norm': 1.186024755414327, 'linf_norm': 63.14787909901937},\n",
              " {'l1_norm': 1.1813338725407918, 'linf_norm': 61.777575699106855},\n",
              " {'l1_norm': 1.181418795077006, 'linf_norm': 61.796437216695146},\n",
              " {'l1_norm': 1.1888811993281048, 'linf_norm': 64.24416953379313},\n",
              " {'l1_norm': 1.1953881727854412, 'linf_norm': 66.41063269220987},\n",
              " {'l1_norm': 1.1930311973571777, 'linf_norm': 65.5790385597229},\n",
              " {'l1_norm': 1.188924792925517, 'linf_norm': 64.26789066263835},\n",
              " {'l1_norm': 1.1856586517969767, 'linf_norm': 63.26140591176351},\n",
              " {'l1_norm': 1.1860475129445394, 'linf_norm': 63.398324743906656},\n",
              " {'l1_norm': 1.18549725411733, 'linf_norm': 63.23533254241944},\n",
              " {'l1_norm': 1.1870624166488648, 'linf_norm': 63.683368999989824},\n",
              " {'l1_norm': 1.1885606910069784, 'linf_norm': 64.08325875345867},\n",
              " {'l1_norm': 1.1906668277740478, 'linf_norm': 64.74331157582601},\n",
              " {'l1_norm': 1.1925048989613851, 'linf_norm': 65.35032385965982},\n",
              " {'l1_norm': 1.1962863675435385, 'linf_norm': 66.55757708129883},\n",
              " {'l1_norm': 1.1966157149632772, 'linf_norm': 66.6636282025655},\n",
              " {'l1_norm': 1.201173844718933, 'linf_norm': 68.12240755132039},\n",
              " {'l1_norm': 1.2036172803878784, 'linf_norm': 68.90869281717936},\n",
              " {'l1_norm': 1.2069960364659629, 'linf_norm': 70.05094418080648},\n",
              " {'l1_norm': 1.2081913033167522, 'linf_norm': 70.46077741368612},\n",
              " {'l1_norm': 1.2050874252319337, 'linf_norm': 69.39372831598918},\n",
              " {'l1_norm': 1.2062960617701213, 'linf_norm': 69.78003433914185},\n",
              " {'l1_norm': 1.2032722177505493, 'linf_norm': 68.79669529546102},\n",
              " {'l1_norm': 1.2014104193369548, 'linf_norm': 68.25872163696289},\n",
              " {'l1_norm': 1.202304976272583, 'linf_norm': 68.51339214070639},\n",
              " {'l1_norm': 1.2036753801345823, 'linf_norm': 68.93501979192098},\n",
              " {'l1_norm': 1.2006334625244142, 'linf_norm': 67.90493653386434},\n",
              " {'l1_norm': 1.198268416595459, 'linf_norm': 67.09568522084554},\n",
              " {'l1_norm': 1.1924254250208537, 'linf_norm': 65.25367243830362},\n",
              " {'l1_norm': 1.1957192856470744, 'linf_norm': 66.32500532582601},\n",
              " {'l1_norm': 1.1956232062021892, 'linf_norm': 66.28292512766521},\n",
              " {'l1_norm': 1.195515888150533, 'linf_norm': 66.23334826024373},\n",
              " {'l1_norm': 1.195418501790365, 'linf_norm': 66.15018087387085},\n",
              " {'l1_norm': 1.1942484237035116, 'linf_norm': 65.80101126963298},\n",
              " {'l1_norm': 1.196539066251119, 'linf_norm': 66.5191036799113},\n",
              " {'l1_norm': 1.1986213710784912, 'linf_norm': 67.19285690917968},\n",
              " {'l1_norm': 1.1917965759913127, 'linf_norm': 64.95466637217204},\n",
              " {'l1_norm': 1.1922796617507934, 'linf_norm': 65.09739378128052},\n",
              " {'l1_norm': 1.187780961036682, 'linf_norm': 63.58610999145508},\n",
              " {'l1_norm': 1.1854587500890097, 'linf_norm': 62.78978292922974},\n",
              " {'l1_norm': 1.188090116818746, 'linf_norm': 63.62390668360392},\n",
              " {'l1_norm': 1.1862465481440223, 'linf_norm': 63.009106773630776},\n",
              " {'l1_norm': 1.188664816792806, 'linf_norm': 63.75322131373088},\n",
              " {'l1_norm': 1.1893350844701132, 'linf_norm': 63.96582825571696},\n",
              " {'l1_norm': 1.189681820233663, 'linf_norm': 64.09436110534668},\n",
              " {'l1_norm': 1.191320927619934, 'linf_norm': 64.55275860875447},\n",
              " {'l1_norm': 1.1928098494847617, 'linf_norm': 65.01749437510172},\n",
              " {'l1_norm': 1.1888993200937907, 'linf_norm': 63.78661753260295},\n",
              " {'l1_norm': 1.1873561508178712, 'linf_norm': 63.28457741673788},\n",
              " {'l1_norm': 1.1828162897745769, 'linf_norm': 61.77127271906535},\n",
              " {'l1_norm': 1.182602628008525, 'linf_norm': 61.72026205469767},\n",
              " {'l1_norm': 1.182997563234965, 'linf_norm': 61.7787809076945},\n",
              " {'l1_norm': 1.189267892074585, 'linf_norm': 63.77723380610148},\n",
              " {'l1_norm': 1.1903484674453737, 'linf_norm': 64.09078766657511},\n",
              " {'l1_norm': 1.1960466643651326, 'linf_norm': 65.88082170740763},\n",
              " {'l1_norm': 1.2017023696899414, 'linf_norm': 67.69387590916952},\n",
              " {'l1_norm': 1.2016082352320354, 'linf_norm': 67.65269361165365},\n",
              " {'l1_norm': 1.2002356400171916, 'linf_norm': 67.22994463780721},\n",
              " {'l1_norm': 1.2011077515920003, 'linf_norm': 67.51254050827026},\n",
              " {'l1_norm': 1.1942875567118327, 'linf_norm': 65.3694389773051},\n",
              " {'l1_norm': 1.195866078631083, 'linf_norm': 65.89588911895751},\n",
              " {'l1_norm': 1.196107190767924, 'linf_norm': 65.88171776784262},\n",
              " {'l1_norm': 1.201627292696635, 'linf_norm': 67.68522985254924},\n",
              " {'l1_norm': 1.1976187798817952, 'linf_norm': 66.2749441078186},\n",
              " {'l1_norm': 1.1986042037963869, 'linf_norm': 66.58884435043335},\n",
              " {'l1_norm': 1.2021283076604208, 'linf_norm': 67.74149114379883},\n",
              " {'l1_norm': 1.204400226275126, 'linf_norm': 68.4279125617981},\n",
              " {'l1_norm': 1.207172171020508, 'linf_norm': 69.26640223617554},\n",
              " {'l1_norm': 1.2085128078460694, 'linf_norm': 69.6597105061849},\n",
              " {'l1_norm': 1.2074478660583496, 'linf_norm': 69.31165859451293},\n",
              " {'l1_norm': 1.209072003809611, 'linf_norm': 69.83298085581461},\n",
              " {'l1_norm': 1.208163610649109, 'linf_norm': 69.52291591949462},\n",
              " {'l1_norm': 1.2088856207529703, 'linf_norm': 69.74108312708537},\n",
              " {'l1_norm': 1.210451282819112, 'linf_norm': 70.20215372314453},\n",
              " {'l1_norm': 1.211386867459615, 'linf_norm': 70.49125568161011},\n",
              " {'l1_norm': 1.215213623491923, 'linf_norm': 71.70252346954345},\n",
              " {'l1_norm': 1.2135406714757284, 'linf_norm': 71.21241141560873},\n",
              " {'l1_norm': 1.213127211825053, 'linf_norm': 71.04454926452637},\n",
              " {'l1_norm': 1.2110299405415852, 'linf_norm': 70.4371142519633},\n",
              " {'l1_norm': 1.2108968936920166, 'linf_norm': 70.37184824244181},\n",
              " {'l1_norm': 1.210973246129354, 'linf_norm': 70.35877022196452},\n",
              " {'l1_norm': 1.2093809728622436, 'linf_norm': 69.87301076863606},\n",
              " {'l1_norm': 1.2080409669876098, 'linf_norm': 69.42127380905151},\n",
              " {'l1_norm': 1.2073845340092977, 'linf_norm': 69.16901370569865},\n",
              " {'l1_norm': 1.2052471234639486, 'linf_norm': 68.56665659764607},\n",
              " {'l1_norm': 1.2072167046864828, 'linf_norm': 69.17520914433797},\n",
              " {'l1_norm': 1.205063240178426, 'linf_norm': 68.49715303751627},\n",
              " {'l1_norm': 1.2041863757451374, 'linf_norm': 68.19826519317627},\n",
              " {'l1_norm': 1.202797174580892, 'linf_norm': 67.7350008084615},\n",
              " {'l1_norm': 1.207523561859131, 'linf_norm': 69.23149659779867},\n",
              " {'l1_norm': 1.2073161046346028, 'linf_norm': 69.13400751622518},\n",
              " {'l1_norm': 1.2064692543665567, 'linf_norm': 68.88621237716674},\n",
              " {'l1_norm': 1.2055865439097089, 'linf_norm': 68.5772138923645},\n",
              " {'l1_norm': 1.2097722743988035, 'linf_norm': 69.8776745592753},\n",
              " {'l1_norm': 1.208813025601705, 'linf_norm': 69.56016069056193},\n",
              " {'l1_norm': 1.2076426186879476, 'linf_norm': 69.31044499486288},\n",
              " {'l1_norm': 1.2100900810877482, 'linf_norm': 70.02614540481568},\n",
              " {'l1_norm': 1.2145615828196208, 'linf_norm': 71.49930722198486},\n",
              " {'l1_norm': 1.214385583114624, 'linf_norm': 71.42120394999186},\n",
              " {'l1_norm': 1.2089758122126262, 'linf_norm': 69.69071616668701},\n",
              " {'l1_norm': 1.208969570795695, 'linf_norm': 69.64001214752197},\n",
              " {'l1_norm': 1.2087297529856365, 'linf_norm': 69.53894499359131},\n",
              " {'l1_norm': 1.2083090593973795, 'linf_norm': 69.37380063705444},\n",
              " {'l1_norm': 1.2071957405090332, 'linf_norm': 69.01588343124389},\n",
              " {'l1_norm': 1.2084525337219238, 'linf_norm': 69.43981596196492},\n",
              " {'l1_norm': 1.2116594459533692, 'linf_norm': 70.39809793497722},\n",
              " {'l1_norm': 1.2113015332539876, 'linf_norm': 70.26175292663574},\n",
              " {'l1_norm': 1.2120134990056357, 'linf_norm': 70.4722734781901},\n",
              " {'l1_norm': 1.2129627745310465, 'linf_norm': 70.77432479400635},\n",
              " {'l1_norm': 1.2131399633407594, 'linf_norm': 70.80510211791992},\n",
              " {'l1_norm': 1.2137357213973998, 'linf_norm': 70.96712746073405},\n",
              " {'l1_norm': 1.2094514680226645, 'linf_norm': 69.6334592183431},\n",
              " {'l1_norm': 1.2050063861846925, 'linf_norm': 68.1641261660258},\n",
              " {'l1_norm': 1.205922822825114, 'linf_norm': 68.44324151814779},\n",
              " {'l1_norm': 1.2029931559880576, 'linf_norm': 67.55909824371338},\n",
              " {'l1_norm': 1.203004940032959, 'linf_norm': 67.54088700815836},\n",
              " {'l1_norm': 1.2059564195632937, 'linf_norm': 68.39853950958252},\n",
              " {'l1_norm': 1.2113168736775717, 'linf_norm': 70.11487369486491},\n",
              " {'l1_norm': 1.2110682106018067, 'linf_norm': 70.03264849446614},\n",
              " {'l1_norm': 1.210043767865499, 'linf_norm': 69.70068935496012},\n",
              " {'l1_norm': 1.2104282627105714, 'linf_norm': 69.83881085968018},\n",
              " {'l1_norm': 1.2124217896143596, 'linf_norm': 70.48344343363443},\n",
              " {'l1_norm': 1.214394189198812, 'linf_norm': 71.09400292460124},\n",
              " {'l1_norm': 1.2152407192866008, 'linf_norm': 71.33826096700032},\n",
              " {'l1_norm': 1.2147307209014893, 'linf_norm': 71.18454536336263},\n",
              " {'l1_norm': 1.2174699126561483, 'linf_norm': 72.08450965932211},\n",
              " {'l1_norm': 1.2172680634816488, 'linf_norm': 72.00785526682536},\n",
              " {'l1_norm': 1.21565776348114, 'linf_norm': 71.5386385192871},\n",
              " {'l1_norm': 1.216773974609375, 'linf_norm': 71.89533885396321},\n",
              " {'l1_norm': 1.2171301219940185, 'linf_norm': 71.99990812886556},\n",
              " {'l1_norm': 1.216382021840413, 'linf_norm': 71.76642995808919},\n",
              " {'l1_norm': 1.21554069964091, 'linf_norm': 71.47628421122234},\n",
              " {'l1_norm': 1.216482140350342, 'linf_norm': 71.7591592066447},\n",
              " {'l1_norm': 1.2188517280578612, 'linf_norm': 72.48878433939616},\n",
              " {'l1_norm': 1.2243205996195474, 'linf_norm': 74.21380248769124},\n",
              " {'l1_norm': 1.228297937520345, 'linf_norm': 75.38183254089356},\n",
              " {'l1_norm': 1.229625395329793, 'linf_norm': 75.69293708394369},\n",
              " {'l1_norm': 1.2286489634195965, 'linf_norm': 75.36589873402913},\n",
              " {'l1_norm': 1.2294366994222006, 'linf_norm': 75.59616688995361},\n",
              " {'l1_norm': 1.231336006228129, 'linf_norm': 76.19463669230143},\n",
              " {'l1_norm': 1.2315856879552205, 'linf_norm': 76.26141251780192},\n",
              " {'l1_norm': 1.2322975423812863, 'linf_norm': 76.48414187367757},\n",
              " {'l1_norm': 1.2335662134170533, 'linf_norm': 76.89167289174398},\n",
              " {'l1_norm': 1.2334904484430949, 'linf_norm': 76.84001203257243},\n",
              " {'l1_norm': 1.2289148923238118, 'linf_norm': 75.35677890116374},\n",
              " {'l1_norm': 1.2272947149276734, 'linf_norm': 74.84483703053792},\n",
              " {'l1_norm': 1.227296545346578, 'linf_norm': 74.84053587036132},\n",
              " {'l1_norm': 1.228292656962077, 'linf_norm': 75.12503833109538},\n",
              " {'l1_norm': 1.2298533502578737, 'linf_norm': 75.58408467966716},\n",
              " {'l1_norm': 1.2297700510025025, 'linf_norm': 75.558052881368},\n",
              " {'l1_norm': 1.2289536745071412, 'linf_norm': 75.28803646291097},\n",
              " {'l1_norm': 1.2267821439107258, 'linf_norm': 74.6458702931722},\n",
              " {'l1_norm': 1.227895852470398, 'linf_norm': 74.96711195475261},\n",
              " {'l1_norm': 1.2238293338139852, 'linf_norm': 73.66921699778239},\n",
              " {'l1_norm': 1.2256768443425496, 'linf_norm': 74.24799989827474},\n",
              " {'l1_norm': 1.2268354800542196, 'linf_norm': 74.55022088826497},\n",
              " {'l1_norm': 1.2255671106974284, 'linf_norm': 74.17293514912923},\n",
              " {'l1_norm': 1.22434958820343, 'linf_norm': 73.74765814870199},\n",
              " {'l1_norm': 1.2265126959482828, 'linf_norm': 74.41376984965007},\n",
              " {'l1_norm': 1.227668488820394, 'linf_norm': 74.76142189127604},\n",
              " {'l1_norm': 1.2283300004323323, 'linf_norm': 74.98603932342529},\n",
              " {'l1_norm': 1.2277942145665486, 'linf_norm': 74.84198424224853}]"
            ]
          },
          "execution_count": 28,
          "metadata": {},
          "output_type": "execute_result"
        }
      ],
      "source": [
        "# %%script echo skipping\n",
        "\n",
        "if hidden_activation_name_loaded == \"LeakyReLU\":\n",
        "  var_dict_loaded[\"leakyrelu_slope\"]\n",
        "if hidden_activation_name_loaded == \"PReLU\":\n",
        "  var_dict_loaded[\"prelu_init\"]\n",
        "elif hidden_activation_name_loaded == \"SoftPlus\":\n",
        "  var_dict_loaded[\"softplus_beta\"]\n",
        "\n",
        "batch_size_loaded\n",
        "n_epochs_loaded\n",
        "loss_name_loaded\n",
        "optimizer_name_loaded\n",
        "scheduler_name_loaded\n",
        "n_units_loaded\n",
        "n_layers_loaded\n",
        "hidden_activation_name_loaded\n",
        "output_activation_name_loaded\n",
        "lr_loaded\n",
        "dropout_rate_loaded\n",
        "hidden_activation_loaded\n",
        "output_activation_loaded\n",
        "net_loaded\n",
        "net_loaded.__dict__ # print the subparameters of the network\n",
        "loss_fn_loaded\n",
        "optimizer_loaded\n",
        "optimizer_loaded.__dict__ # print the subparameters of the optimizer\n",
        "if scheduler_loaded is not None:\n",
        "  scheduler_loaded\n",
        "  scheduler_loaded.__dict__ # print the subparameters of the scheduler\n",
        "train_losses_loaded\n",
        "test_losses_loaded\n",
        "train_metrics_loaded\n",
        "test_metrics_loaded\n"
      ]
    },
    {
      "cell_type": "code",
      "execution_count": 21,
      "metadata": {},
      "outputs": [
        {
          "data": {
            "text/plain": [
              "103.3063603587431"
            ]
          },
          "execution_count": 21,
          "metadata": {},
          "output_type": "execute_result"
        },
        {
          "data": {
            "text/plain": [
              "50.34630161946615"
            ]
          },
          "execution_count": 21,
          "metadata": {},
          "output_type": "execute_result"
        },
        {
          "data": {
            "text/plain": [
              "1.2277942145665486"
            ]
          },
          "execution_count": 21,
          "metadata": {},
          "output_type": "execute_result"
        },
        {
          "data": {
            "text/plain": [
              "74.84198424224853"
            ]
          },
          "execution_count": 21,
          "metadata": {},
          "output_type": "execute_result"
        }
      ],
      "source": [
        "train_losses_loaded[-1]\n",
        "test_losses_loaded[-1]\n",
        "test_metrics_loaded[-1]['l1_norm']\n",
        "test_metrics_loaded[-1]['linf_norm']\n",
        "# print(f'Error is {test_metrics_loaded[-1][\"l1_norm\"] / (3.84e-4)} times bigger than in Dieselhorst et al.')\n",
        "# print(f'Error is {test_metrics_loaded[-1][\"linf_norm\"] / (8.14e-3)} times bigger than in Dieselhorst et al.')"
      ]
    },
    {
      "attachments": {},
      "cell_type": "markdown",
      "metadata": {},
      "source": [
        "### Visualize loaded results"
      ]
    },
    {
      "attachments": {},
      "cell_type": "markdown",
      "metadata": {
        "id": "vwLGR1aSUZik"
      },
      "source": [
        "Let us verify correct loading of the train and test metrics by visualizing them again but now through the loaded values. Likewise for the train and test losses."
      ]
    },
    {
      "cell_type": "code",
      "execution_count": 22,
      "metadata": {
        "id": "sXiNgLsmUZil"
      },
      "outputs": [],
      "source": [
        "%config InteractiveShell.ast_node_interactivity = \"last_expr_or_assign\""
      ]
    },
    {
      "cell_type": "code",
      "execution_count": 27,
      "metadata": {
        "colab": {
          "base_uri": "https://localhost:8080/",
          "height": 1000
        },
        "id": "sgq4WfSiUZil",
        "outputId": "9934bd08-6c78-4a92-c8c6-d8e835c351b3"
      },
      "outputs": [
        {
          "data": {
            "image/png": "[encoded data removed]",
            "text/plain": [
              "<Figure size 600x400 with 1 Axes>"
            ]
          },
          "metadata": {},
          "output_type": "display_data"
        },
        {
          "data": {
            "image/png": "[encoded data removed]",
            "text/plain": [
              "<Figure size 600x400 with 1 Axes>"
            ]
          },
          "metadata": {},
          "output_type": "display_data"
        },
        {
          "data": {
            "image/png": "[encoded data removed]",
            "text/plain": [
              "<Figure size 600x400 with 1 Axes>"
            ]
          },
          "metadata": {},
          "output_type": "display_data"
        }
      ],
      "source": [
        "# First figure: Train and Test L1 Norm\n",
        "plt.figure(figsize=(6, 4))\n",
        "plt.plot([m[\"l1_norm\"] for m in train_metrics_loaded], label=\"Train L1 Norm\", color='blue')\n",
        "plt.plot([m[\"l1_norm\"] for m in test_metrics_loaded], label=\"Test L1 Norm\", color='red')\n",
        "plt.xlabel(\"Epoch\")\n",
        "plt.ylabel(\"L1 Norm\")\n",
        "plt.title(\"NNGR1 Train and Test L1 Norm per Epoch\")\n",
        "plt.yscale(\"log\")\n",
        "plt.grid(True)\n",
        "plt.xlim(right=500)\n",
        "plt.ylim(1e-1, 1e1)\n",
        "plt.legend()\n",
        "plt.tight_layout()\n",
        "plt.savefig(\"NNGR1_L1_norm_plot.png\", dpi=300)\n",
        "\n",
        "# Second figure: Train and Test Linf Norm\n",
        "plt.figure(figsize=(6, 4))\n",
        "plt.plot([m[\"linf_norm\"] for m in train_metrics_loaded], label=\"Train Linf Norm\", color='blue')\n",
        "plt.plot([m[\"linf_norm\"] for m in test_metrics_loaded], label=\"Test Linf Norm\", color='red')\n",
        "plt.xlabel(\"Epoch\")\n",
        "plt.ylabel(\"Linf Norm\")\n",
        "plt.title(\"NNGR1 Train and Test Linf Norm per Epoch\")\n",
        "plt.yscale(\"log\")\n",
        "plt.grid(True)\n",
        "plt.xlim(right=500)\n",
        "plt.ylim(1e-1, 1e3)\n",
        "plt.legend()\n",
        "plt.tight_layout()\n",
        "plt.savefig(\"NNGR1_Linf_norm_plot.png\", dpi=300)\n",
        "\n",
        "# Third figure: MSE of training data and test data\n",
        "plt.figure(figsize=(6, 4))\n",
        "plt.plot(train_losses_loaded, label=\"Training Data\", color='blue')\n",
        "plt.plot(test_losses_loaded, label=\"Test Data\", color='red')\n",
        "plt.xlabel(\"Epoch\")\n",
        "plt.ylabel(\"MSE\")\n",
        "plt.title(\"NNGR1 MSE of Training and Test Data per Epoch\")\n",
        "plt.yscale(\"log\")\n",
        "plt.grid(True)\n",
        "plt.xlim(right=500)\n",
        "plt.ylim(1e-1, 1e4)\n",
        "plt.legend()\n",
        "plt.tight_layout()\n",
        "plt.savefig(\"NNGR1_MSE_plot.png\", dpi=300)"
      ]
    },
    {
      "cell_type": "code",
      "execution_count": null,
      "metadata": {
        "id": "lkgLqJ_UUZim"
      },
      "outputs": [],
      "source": [
        "%config InteractiveShell.ast_node_interactivity = \"all\""
      ]
    },
    {
      "cell_type": "code",
      "execution_count": 30,
      "metadata": {},
      "outputs": [],
      "source": [
        "import pandas as pd\n",
        "\n",
        "def save_metrics_to_csv(metrics_data, filename):\n",
        "    df = pd.DataFrame(metrics_data)\n",
        "    df.columns = ['L1 Norm', 'Linf Norm']\n",
        "    df.to_csv(filename, index=False)\n",
        "\n",
        "save_metrics_to_csv(train_metrics_loaded, 'train_metrics_NNGR1.csv')\n",
        "save_metrics_to_csv(test_metrics_loaded, 'test_metrics_NNGR1.csv')"
      ]
    },
    {
      "attachments": {},
      "cell_type": "markdown",
      "metadata": {},
      "source": [
        "## Counting the number of parameters in the network."
      ]
    },
    {
      "cell_type": "code",
      "execution_count": null,
      "metadata": {},
      "outputs": [],
      "source": [
        "net_loaded.eval()\n",
        "def count_parameters(model):\n",
        "    return sum(p.numel() for p in model.parameters() if p.requires_grad)\n",
        "print(f'The model has {count_parameters(net_loaded)} parameters.')"
      ]
    },
    {
      "attachments": {},
      "cell_type": "markdown",
      "metadata": {
        "id": "SxuzVSnlUZin"
      },
      "source": [
        "## Evaluating the network on arbirary input\n",
        "### Comparing `net` and `net_loaded`\n",
        "\n",
        "We compare `net` and `net_loaded` to confirm correct loading of the network. Note that `net` is only available if we have trained the model in this session."
      ]
    },
    {
      "cell_type": "code",
      "execution_count": null,
      "metadata": {},
      "outputs": [],
      "source": [
        "#%%script echo skipping\n",
        "\n",
        "# Set the network to evaluation mode\n",
        "net.eval()"
      ]
    },
    {
      "cell_type": "code",
      "execution_count": null,
      "metadata": {},
      "outputs": [],
      "source": [
        "# Set the network to evaluation mode\n",
        "net_loaded.eval"
      ]
    },
    {
      "cell_type": "code",
      "execution_count": null,
      "metadata": {},
      "outputs": [],
      "source": [
        "for p1, p2 in zip(net.parameters(), net_loaded.parameters()):\n",
        "    if p1.data.ne(p2.data).sum() > 0:\n",
        "        print(\"Parameters are NOT the same.\")\n",
        "        break\n",
        "else:\n",
        "    print(\"Parameters are the same.\")\n",
        "\n",
        "print(\"Net device:\", next(net.parameters()).device)\n",
        "print(\"Net_loaded device:\", next(net_loaded.parameters()).device)"
      ]
    },
    {
      "cell_type": "code",
      "execution_count": null,
      "metadata": {
        "colab": {
          "base_uri": "https://localhost:8080/"
        },
        "id": "C0PLAA0DUZin",
        "outputId": "c51e07dd-8b35-4ea4-cdf9-3118d7796e30"
      },
      "outputs": [],
      "source": [
        "#%%script echo skipping\n",
        "\n",
        "print(list(net.parameters()))"
      ]
    },
    {
      "cell_type": "code",
      "execution_count": null,
      "metadata": {
        "colab": {
          "base_uri": "https://localhost:8080/"
        },
        "id": "1NZ8iVA7UZio",
        "outputId": "6341def7-b7e7-44eb-c91f-edbe1d22ca1d"
      },
      "outputs": [],
      "source": [
        "print(list(net_loaded.parameters()))"
      ]
    },
    {
      "cell_type": "code",
      "execution_count": null,
      "metadata": {
        "colab": {
          "base_uri": "https://localhost:8080/"
        },
        "id": "InGW0Xq6UZip",
        "outputId": "6c4a0e2c-b485-4362-b99d-7364dcf9443a"
      },
      "outputs": [],
      "source": [
        "rho_example, epsilon_example, vx_example, vy_example, vz_example, Bx_example, By_example, Bz_example, gxx_example, gxy_example, gxz_example, gyy_example, gyz_example, gzz_example = generate_samples(20)\n",
        "\n",
        "inputs =  generate_input_data(rho_example, epsilon_example, vx_example, vy_example, vz_example, Bx_example, By_example, Bz_example, gxx_example, gxy_example, gxz_example, gyy_example, gyz_example, gzz_example)\n",
        "inputs\n"
      ]
    },
    {
      "cell_type": "code",
      "execution_count": null,
      "metadata": {
        "colab": {
          "base_uri": "https://localhost:8080/"
        },
        "id": "QVa1upmFUZip",
        "outputId": "95a297df-88d8-4614-ffd7-ecc0cda58cf9"
      },
      "outputs": [],
      "source": [
        "#%%script echo skipping\n",
        "\n",
        "# Pass the inputs to the network and get the outputs\n",
        "outputs = [net(input.unsqueeze(0)) for input in inputs]\n",
        "# Print the outputs\n",
        "outputs"
      ]
    },
    {
      "cell_type": "code",
      "execution_count": null,
      "metadata": {
        "colab": {
          "base_uri": "https://localhost:8080/"
        },
        "id": "E-Xjfo7VUZir",
        "outputId": "fb0478cb-bee3-429f-fdec-d99f11baf40f"
      },
      "outputs": [],
      "source": [
        "\n",
        "# Pass the inputs to the network and get the outputs\n",
        "outputs = [net_loaded(input.unsqueeze(0)) for input in inputs]\n",
        "# Print the outputs\n",
        "outputs"
      ]
    },
    {
      "attachments": {},
      "cell_type": "markdown",
      "metadata": {
        "id": "xjpIvdybUZis"
      },
      "source": [
        "## Porting the model to C++"
      ]
    },
    {
      "cell_type": "code",
      "execution_count": null,
      "metadata": {
        "colab": {
          "base_uri": "https://localhost:8080/"
        },
        "id": "VMlEd4RoUZis",
        "outputId": "d5bfc697-8c96-47bb-a08c-6fb26f463797"
      },
      "outputs": [],
      "source": [
        "import torch.jit\n",
        "\n",
        "# Creating a dummy input tensor of shape (1, 5) to trace the model\n",
        "dummy_input = torch.randn(1, N_INPUTS).to(device)\n",
        "\n",
        "# Ensure that net_loaded is in evaluation mode.\n",
        "net_loaded.eval()\n",
        "\n",
        "# Tracing the model using the torch.jit.trace function\n",
        "traced_model = torch.jit.trace(net_loaded, dummy_input)\n",
        "\n",
        "# Saving the traced model to a file named \"net.pt\"\n",
        "traced_model.save(\"net.pt\")\n",
        "save_file(\"net.pt\")\n",
        "\n",
        "example_input_to_validate_correct_export_and_import = generate_input_data(*generate_samples(1))\n",
        "print(\"input shape: \", example_input_to_validate_correct_export_and_import.shape)\n",
        "print(\"input: \", example_input_to_validate_correct_export_and_import)\n",
        "print(\"Output:\", net_loaded(example_input_to_validate_correct_export_and_import))"
      ]
    }
  ],
  "metadata": {
    "accelerator": "GPU",
    "colab": {
      "gpuType": "T4",
      "provenance": [],
      "toc_visible": true
    },
    "gpuClass": "standard",
    "kernelspec": {
      "display_name": "bsc",
      "language": "python",
      "name": "python3"
    },
    "language_info": {
      "codemirror_mode": {
        "name": "ipython",
        "version": 3
      },
      "file_extension": ".py",
      "mimetype": "text/x-python",
      "name": "python",
      "nbconvert_exporter": "python",
      "pygments_lexer": "ipython3",
      "version": "3.9.12"
    },
    "orig_nbformat": 4
  },
  "nbformat": 4,
  "nbformat_minor": 0
}
